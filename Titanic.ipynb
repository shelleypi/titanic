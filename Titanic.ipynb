{
 "cells": [
  {
   "cell_type": "markdown",
   "metadata": {},
   "source": [
    "# Predicting Titanic Passenger Survival Using Multiple ML Models\n",
    "\n",
    "In this project, we'll create different machine learning models that predict which passengers survived the Titanic shipwreck. While there was some element of luck involved in surviving, it seems that some groups of people were more likely to survive than others. Our goal is to build a machine learning model that can predict whether or not a passenger aboard the Titanic survived, using passenger data from [Kaggle](https://www.kaggle.com/competitions/titanic/overview). \n",
    "\n",
    "### Summary of Results\n",
    "The best model we created was a Linear Regression model with an accuracy of 0.79485."
   ]
  },
  {
   "cell_type": "markdown",
   "metadata": {},
   "source": [
    "# 1. Loading the Data\n",
    "Let's read in the dataset and take a look at the first few rows along with the datatypes of each column."
   ]
  },
  {
   "cell_type": "code",
   "execution_count": 1,
   "metadata": {
    "scrolled": false
   },
   "outputs": [
    {
     "name": "stdout",
     "output_type": "stream",
     "text": [
      "891\n"
     ]
    },
    {
     "data": {
      "text/html": [
       "<div>\n",
       "<style scoped>\n",
       "    .dataframe tbody tr th:only-of-type {\n",
       "        vertical-align: middle;\n",
       "    }\n",
       "\n",
       "    .dataframe tbody tr th {\n",
       "        vertical-align: top;\n",
       "    }\n",
       "\n",
       "    .dataframe thead th {\n",
       "        text-align: right;\n",
       "    }\n",
       "</style>\n",
       "<table border=\"1\" class=\"dataframe\">\n",
       "  <thead>\n",
       "    <tr style=\"text-align: right;\">\n",
       "      <th></th>\n",
       "      <th>PassengerId</th>\n",
       "      <th>Survived</th>\n",
       "      <th>Pclass</th>\n",
       "      <th>Name</th>\n",
       "      <th>Sex</th>\n",
       "      <th>Age</th>\n",
       "      <th>SibSp</th>\n",
       "      <th>Parch</th>\n",
       "      <th>Ticket</th>\n",
       "      <th>Fare</th>\n",
       "      <th>Cabin</th>\n",
       "      <th>Embarked</th>\n",
       "    </tr>\n",
       "  </thead>\n",
       "  <tbody>\n",
       "    <tr>\n",
       "      <th>0</th>\n",
       "      <td>1</td>\n",
       "      <td>0</td>\n",
       "      <td>3</td>\n",
       "      <td>Braund, Mr. Owen Harris</td>\n",
       "      <td>male</td>\n",
       "      <td>22.0</td>\n",
       "      <td>1</td>\n",
       "      <td>0</td>\n",
       "      <td>A/5 21171</td>\n",
       "      <td>7.2500</td>\n",
       "      <td>NaN</td>\n",
       "      <td>S</td>\n",
       "    </tr>\n",
       "    <tr>\n",
       "      <th>1</th>\n",
       "      <td>2</td>\n",
       "      <td>1</td>\n",
       "      <td>1</td>\n",
       "      <td>Cumings, Mrs. John Bradley (Florence Briggs Th...</td>\n",
       "      <td>female</td>\n",
       "      <td>38.0</td>\n",
       "      <td>1</td>\n",
       "      <td>0</td>\n",
       "      <td>PC 17599</td>\n",
       "      <td>71.2833</td>\n",
       "      <td>C85</td>\n",
       "      <td>C</td>\n",
       "    </tr>\n",
       "    <tr>\n",
       "      <th>2</th>\n",
       "      <td>3</td>\n",
       "      <td>1</td>\n",
       "      <td>3</td>\n",
       "      <td>Heikkinen, Miss. Laina</td>\n",
       "      <td>female</td>\n",
       "      <td>26.0</td>\n",
       "      <td>0</td>\n",
       "      <td>0</td>\n",
       "      <td>STON/O2. 3101282</td>\n",
       "      <td>7.9250</td>\n",
       "      <td>NaN</td>\n",
       "      <td>S</td>\n",
       "    </tr>\n",
       "    <tr>\n",
       "      <th>3</th>\n",
       "      <td>4</td>\n",
       "      <td>1</td>\n",
       "      <td>1</td>\n",
       "      <td>Futrelle, Mrs. Jacques Heath (Lily May Peel)</td>\n",
       "      <td>female</td>\n",
       "      <td>35.0</td>\n",
       "      <td>1</td>\n",
       "      <td>0</td>\n",
       "      <td>113803</td>\n",
       "      <td>53.1000</td>\n",
       "      <td>C123</td>\n",
       "      <td>S</td>\n",
       "    </tr>\n",
       "    <tr>\n",
       "      <th>4</th>\n",
       "      <td>5</td>\n",
       "      <td>0</td>\n",
       "      <td>3</td>\n",
       "      <td>Allen, Mr. William Henry</td>\n",
       "      <td>male</td>\n",
       "      <td>35.0</td>\n",
       "      <td>0</td>\n",
       "      <td>0</td>\n",
       "      <td>373450</td>\n",
       "      <td>8.0500</td>\n",
       "      <td>NaN</td>\n",
       "      <td>S</td>\n",
       "    </tr>\n",
       "  </tbody>\n",
       "</table>\n",
       "</div>"
      ],
      "text/plain": [
       "   PassengerId  Survived  Pclass  \\\n",
       "0            1         0       3   \n",
       "1            2         1       1   \n",
       "2            3         1       3   \n",
       "3            4         1       1   \n",
       "4            5         0       3   \n",
       "\n",
       "                                                Name     Sex   Age  SibSp  \\\n",
       "0                            Braund, Mr. Owen Harris    male  22.0      1   \n",
       "1  Cumings, Mrs. John Bradley (Florence Briggs Th...  female  38.0      1   \n",
       "2                             Heikkinen, Miss. Laina  female  26.0      0   \n",
       "3       Futrelle, Mrs. Jacques Heath (Lily May Peel)  female  35.0      1   \n",
       "4                           Allen, Mr. William Henry    male  35.0      0   \n",
       "\n",
       "   Parch            Ticket     Fare Cabin Embarked  \n",
       "0      0         A/5 21171   7.2500   NaN        S  \n",
       "1      0          PC 17599  71.2833   C85        C  \n",
       "2      0  STON/O2. 3101282   7.9250   NaN        S  \n",
       "3      0            113803  53.1000  C123        S  \n",
       "4      0            373450   8.0500   NaN        S  "
      ]
     },
     "metadata": {},
     "output_type": "display_data"
    },
    {
     "name": "stdout",
     "output_type": "stream",
     "text": [
      "418\n"
     ]
    },
    {
     "data": {
      "text/html": [
       "<div>\n",
       "<style scoped>\n",
       "    .dataframe tbody tr th:only-of-type {\n",
       "        vertical-align: middle;\n",
       "    }\n",
       "\n",
       "    .dataframe tbody tr th {\n",
       "        vertical-align: top;\n",
       "    }\n",
       "\n",
       "    .dataframe thead th {\n",
       "        text-align: right;\n",
       "    }\n",
       "</style>\n",
       "<table border=\"1\" class=\"dataframe\">\n",
       "  <thead>\n",
       "    <tr style=\"text-align: right;\">\n",
       "      <th></th>\n",
       "      <th>PassengerId</th>\n",
       "      <th>Pclass</th>\n",
       "      <th>Name</th>\n",
       "      <th>Sex</th>\n",
       "      <th>Age</th>\n",
       "      <th>SibSp</th>\n",
       "      <th>Parch</th>\n",
       "      <th>Ticket</th>\n",
       "      <th>Fare</th>\n",
       "      <th>Cabin</th>\n",
       "      <th>Embarked</th>\n",
       "    </tr>\n",
       "  </thead>\n",
       "  <tbody>\n",
       "    <tr>\n",
       "      <th>0</th>\n",
       "      <td>892</td>\n",
       "      <td>3</td>\n",
       "      <td>Kelly, Mr. James</td>\n",
       "      <td>male</td>\n",
       "      <td>34.5</td>\n",
       "      <td>0</td>\n",
       "      <td>0</td>\n",
       "      <td>330911</td>\n",
       "      <td>7.8292</td>\n",
       "      <td>NaN</td>\n",
       "      <td>Q</td>\n",
       "    </tr>\n",
       "    <tr>\n",
       "      <th>1</th>\n",
       "      <td>893</td>\n",
       "      <td>3</td>\n",
       "      <td>Wilkes, Mrs. James (Ellen Needs)</td>\n",
       "      <td>female</td>\n",
       "      <td>47.0</td>\n",
       "      <td>1</td>\n",
       "      <td>0</td>\n",
       "      <td>363272</td>\n",
       "      <td>7.0000</td>\n",
       "      <td>NaN</td>\n",
       "      <td>S</td>\n",
       "    </tr>\n",
       "    <tr>\n",
       "      <th>2</th>\n",
       "      <td>894</td>\n",
       "      <td>2</td>\n",
       "      <td>Myles, Mr. Thomas Francis</td>\n",
       "      <td>male</td>\n",
       "      <td>62.0</td>\n",
       "      <td>0</td>\n",
       "      <td>0</td>\n",
       "      <td>240276</td>\n",
       "      <td>9.6875</td>\n",
       "      <td>NaN</td>\n",
       "      <td>Q</td>\n",
       "    </tr>\n",
       "    <tr>\n",
       "      <th>3</th>\n",
       "      <td>895</td>\n",
       "      <td>3</td>\n",
       "      <td>Wirz, Mr. Albert</td>\n",
       "      <td>male</td>\n",
       "      <td>27.0</td>\n",
       "      <td>0</td>\n",
       "      <td>0</td>\n",
       "      <td>315154</td>\n",
       "      <td>8.6625</td>\n",
       "      <td>NaN</td>\n",
       "      <td>S</td>\n",
       "    </tr>\n",
       "    <tr>\n",
       "      <th>4</th>\n",
       "      <td>896</td>\n",
       "      <td>3</td>\n",
       "      <td>Hirvonen, Mrs. Alexander (Helga E Lindqvist)</td>\n",
       "      <td>female</td>\n",
       "      <td>22.0</td>\n",
       "      <td>1</td>\n",
       "      <td>1</td>\n",
       "      <td>3101298</td>\n",
       "      <td>12.2875</td>\n",
       "      <td>NaN</td>\n",
       "      <td>S</td>\n",
       "    </tr>\n",
       "  </tbody>\n",
       "</table>\n",
       "</div>"
      ],
      "text/plain": [
       "   PassengerId  Pclass                                          Name     Sex  \\\n",
       "0          892       3                              Kelly, Mr. James    male   \n",
       "1          893       3              Wilkes, Mrs. James (Ellen Needs)  female   \n",
       "2          894       2                     Myles, Mr. Thomas Francis    male   \n",
       "3          895       3                              Wirz, Mr. Albert    male   \n",
       "4          896       3  Hirvonen, Mrs. Alexander (Helga E Lindqvist)  female   \n",
       "\n",
       "    Age  SibSp  Parch   Ticket     Fare Cabin Embarked  \n",
       "0  34.5      0      0   330911   7.8292   NaN        Q  \n",
       "1  47.0      1      0   363272   7.0000   NaN        S  \n",
       "2  62.0      0      0   240276   9.6875   NaN        Q  \n",
       "3  27.0      0      0   315154   8.6625   NaN        S  \n",
       "4  22.0      1      1  3101298  12.2875   NaN        S  "
      ]
     },
     "metadata": {},
     "output_type": "display_data"
    },
    {
     "data": {
      "text/plain": [
       "PassengerId      int64\n",
       "Survived         int64\n",
       "Pclass           int64\n",
       "Name            object\n",
       "Sex             object\n",
       "Age            float64\n",
       "SibSp            int64\n",
       "Parch            int64\n",
       "Ticket          object\n",
       "Fare           float64\n",
       "Cabin           object\n",
       "Embarked        object\n",
       "dtype: object"
      ]
     },
     "metadata": {},
     "output_type": "display_data"
    }
   ],
   "source": [
    "import pandas as pd\n",
    "\n",
    "train = pd.read_csv(\"train.csv\")\n",
    "holdout = pd.read_csv(\"test.csv\")\n",
    "print(len(train))\n",
    "display(train.head())\n",
    "print(len(holdout))\n",
    "display(holdout.head())\n",
    "display(train.dtypes)"
   ]
  },
  {
   "cell_type": "markdown",
   "metadata": {},
   "source": [
    "Looking at the column names, we can ignore `PassengerId` and `Survived` in terms of feature preparation and engineering. `PassengerId` is only useful for Kaggle's answer-checking purposes and `Survived` is our target.\n",
    "\n",
    "Below is the data dictionary taken from Kaggle.\n",
    "\n",
    "Variable|Definition|Key\n",
    "--------|----------|----- \n",
    "Survived|Survived|0 = No, 1 = Yes\n",
    "Pclass|Ticket class|1 = 1st/Upper, 2 = 2nd/Middle, 3 = 3rd/Lower\n",
    "Sex|Sex|\n",
    "Age|Age in years|\n",
    "SibSp|# of siblings / spouses aboard the Titanic|\n",
    "Parch|# of parents / children aboard the Titanic|\n",
    "Ticket|Ticket number|\n",
    "Fare|Passenger fare|\n",
    "Cabin|Cabin number|\n",
    "Embarked|Port of embarkation|C = Cherbourg, Q = Queenstown, S = Southampton"
   ]
  },
  {
   "cell_type": "markdown",
   "metadata": {},
   "source": [
    "# 2. Data Preprocessing and Analysis\n",
    "We might one-hot encode some of the columns, so let's create the `create_dummies()` function."
   ]
  },
  {
   "cell_type": "code",
   "execution_count": 2,
   "metadata": {},
   "outputs": [],
   "source": [
    "def create_dummies(df, column_name):\n",
    "    \"\"\"\n",
    "    Create Dummy Columns (One Hot Encoding) from a single column\n",
    "\n",
    "    \"\"\"\n",
    "    \n",
    "    dummies = pd.get_dummies(df[column_name], prefix=column_name)\n",
    "    df = pd.concat([df, dummies], axis=1)\n",
    "    \n",
    "    return df"
   ]
  },
  {
   "cell_type": "markdown",
   "metadata": {},
   "source": [
    "<i>Note that initially we one-hot encoded nominal and ordinal data, but we felt best to convert nominal to ordinal and keep the ordered nature of the variable. We'll still leave the function above for exercise.</i>"
   ]
  },
  {
   "cell_type": "markdown",
   "metadata": {},
   "source": [
    "## 2.1 Missing Data"
   ]
  },
  {
   "cell_type": "code",
   "execution_count": 3,
   "metadata": {
    "scrolled": false
   },
   "outputs": [
    {
     "data": {
      "text/html": [
       "<div>\n",
       "<style scoped>\n",
       "    .dataframe tbody tr th:only-of-type {\n",
       "        vertical-align: middle;\n",
       "    }\n",
       "\n",
       "    .dataframe tbody tr th {\n",
       "        vertical-align: top;\n",
       "    }\n",
       "\n",
       "    .dataframe thead th {\n",
       "        text-align: right;\n",
       "    }\n",
       "</style>\n",
       "<table border=\"1\" class=\"dataframe\">\n",
       "  <thead>\n",
       "    <tr style=\"text-align: right;\">\n",
       "      <th></th>\n",
       "      <th>null value count</th>\n",
       "      <th>percentage</th>\n",
       "    </tr>\n",
       "  </thead>\n",
       "  <tbody>\n",
       "    <tr>\n",
       "      <th>PassengerId</th>\n",
       "      <td>0</td>\n",
       "      <td>0.000000</td>\n",
       "    </tr>\n",
       "    <tr>\n",
       "      <th>Survived</th>\n",
       "      <td>0</td>\n",
       "      <td>0.000000</td>\n",
       "    </tr>\n",
       "    <tr>\n",
       "      <th>Pclass</th>\n",
       "      <td>0</td>\n",
       "      <td>0.000000</td>\n",
       "    </tr>\n",
       "    <tr>\n",
       "      <th>Name</th>\n",
       "      <td>0</td>\n",
       "      <td>0.000000</td>\n",
       "    </tr>\n",
       "    <tr>\n",
       "      <th>Sex</th>\n",
       "      <td>0</td>\n",
       "      <td>0.000000</td>\n",
       "    </tr>\n",
       "    <tr>\n",
       "      <th>Age</th>\n",
       "      <td>177</td>\n",
       "      <td>0.198653</td>\n",
       "    </tr>\n",
       "    <tr>\n",
       "      <th>SibSp</th>\n",
       "      <td>0</td>\n",
       "      <td>0.000000</td>\n",
       "    </tr>\n",
       "    <tr>\n",
       "      <th>Parch</th>\n",
       "      <td>0</td>\n",
       "      <td>0.000000</td>\n",
       "    </tr>\n",
       "    <tr>\n",
       "      <th>Ticket</th>\n",
       "      <td>0</td>\n",
       "      <td>0.000000</td>\n",
       "    </tr>\n",
       "    <tr>\n",
       "      <th>Fare</th>\n",
       "      <td>0</td>\n",
       "      <td>0.000000</td>\n",
       "    </tr>\n",
       "    <tr>\n",
       "      <th>Cabin</th>\n",
       "      <td>687</td>\n",
       "      <td>0.771044</td>\n",
       "    </tr>\n",
       "    <tr>\n",
       "      <th>Embarked</th>\n",
       "      <td>2</td>\n",
       "      <td>0.002245</td>\n",
       "    </tr>\n",
       "  </tbody>\n",
       "</table>\n",
       "</div>"
      ],
      "text/plain": [
       "             null value count  percentage\n",
       "PassengerId                 0    0.000000\n",
       "Survived                    0    0.000000\n",
       "Pclass                      0    0.000000\n",
       "Name                        0    0.000000\n",
       "Sex                         0    0.000000\n",
       "Age                       177    0.198653\n",
       "SibSp                       0    0.000000\n",
       "Parch                       0    0.000000\n",
       "Ticket                      0    0.000000\n",
       "Fare                        0    0.000000\n",
       "Cabin                     687    0.771044\n",
       "Embarked                    2    0.002245"
      ]
     },
     "metadata": {},
     "output_type": "display_data"
    },
    {
     "data": {
      "text/html": [
       "<div>\n",
       "<style scoped>\n",
       "    .dataframe tbody tr th:only-of-type {\n",
       "        vertical-align: middle;\n",
       "    }\n",
       "\n",
       "    .dataframe tbody tr th {\n",
       "        vertical-align: top;\n",
       "    }\n",
       "\n",
       "    .dataframe thead th {\n",
       "        text-align: right;\n",
       "    }\n",
       "</style>\n",
       "<table border=\"1\" class=\"dataframe\">\n",
       "  <thead>\n",
       "    <tr style=\"text-align: right;\">\n",
       "      <th></th>\n",
       "      <th>null value count</th>\n",
       "      <th>percentage</th>\n",
       "    </tr>\n",
       "  </thead>\n",
       "  <tbody>\n",
       "    <tr>\n",
       "      <th>PassengerId</th>\n",
       "      <td>0</td>\n",
       "      <td>0.000000</td>\n",
       "    </tr>\n",
       "    <tr>\n",
       "      <th>Pclass</th>\n",
       "      <td>0</td>\n",
       "      <td>0.000000</td>\n",
       "    </tr>\n",
       "    <tr>\n",
       "      <th>Name</th>\n",
       "      <td>0</td>\n",
       "      <td>0.000000</td>\n",
       "    </tr>\n",
       "    <tr>\n",
       "      <th>Sex</th>\n",
       "      <td>0</td>\n",
       "      <td>0.000000</td>\n",
       "    </tr>\n",
       "    <tr>\n",
       "      <th>Age</th>\n",
       "      <td>86</td>\n",
       "      <td>0.205742</td>\n",
       "    </tr>\n",
       "    <tr>\n",
       "      <th>SibSp</th>\n",
       "      <td>0</td>\n",
       "      <td>0.000000</td>\n",
       "    </tr>\n",
       "    <tr>\n",
       "      <th>Parch</th>\n",
       "      <td>0</td>\n",
       "      <td>0.000000</td>\n",
       "    </tr>\n",
       "    <tr>\n",
       "      <th>Ticket</th>\n",
       "      <td>0</td>\n",
       "      <td>0.000000</td>\n",
       "    </tr>\n",
       "    <tr>\n",
       "      <th>Fare</th>\n",
       "      <td>1</td>\n",
       "      <td>0.002392</td>\n",
       "    </tr>\n",
       "    <tr>\n",
       "      <th>Cabin</th>\n",
       "      <td>327</td>\n",
       "      <td>0.782297</td>\n",
       "    </tr>\n",
       "    <tr>\n",
       "      <th>Embarked</th>\n",
       "      <td>0</td>\n",
       "      <td>0.000000</td>\n",
       "    </tr>\n",
       "  </tbody>\n",
       "</table>\n",
       "</div>"
      ],
      "text/plain": [
       "             null value count  percentage\n",
       "PassengerId                 0    0.000000\n",
       "Pclass                      0    0.000000\n",
       "Name                        0    0.000000\n",
       "Sex                         0    0.000000\n",
       "Age                        86    0.205742\n",
       "SibSp                       0    0.000000\n",
       "Parch                       0    0.000000\n",
       "Ticket                      0    0.000000\n",
       "Fare                        1    0.002392\n",
       "Cabin                     327    0.782297\n",
       "Embarked                    0    0.000000"
      ]
     },
     "metadata": {},
     "output_type": "display_data"
    }
   ],
   "source": [
    "# Display the number and percentage of null values in each column\n",
    "for df in [train, holdout]:\n",
    "    display(pd.DataFrame({\"null value count\": df.isnull().sum(), \n",
    "                  \"percentage\": df.isnull().sum()/len(df)}))"
   ]
  },
  {
   "cell_type": "markdown",
   "metadata": {},
   "source": [
    "* <b>Cabin (~77%)</b>: An overwhelming amount of data is missing. It would be reasonable to drop the column, but we'll take a closer look and see if there's some information worth keeping.\n",
    "* <b>Age (~20%)</b>: A large amount of data is missing, but we can try to fill it if it's a worthy feature.\n",
    "* <b>Embarked (2 datapoints)</b>: We can fill the missing values with the mean. \n",
    "* <b>Fare (1 datapoint)</b>: We can fill this missing value with the mean."
   ]
  },
  {
   "cell_type": "markdown",
   "metadata": {},
   "source": [
    "### 2.1.1 Embarked and Fare"
   ]
  },
  {
   "cell_type": "code",
   "execution_count": 4,
   "metadata": {},
   "outputs": [
    {
     "data": {
      "text/plain": [
       "S    644\n",
       "C    168\n",
       "Q     77\n",
       "Name: Embarked, dtype: int64"
      ]
     },
     "metadata": {},
     "output_type": "display_data"
    },
    {
     "data": {
      "text/plain": [
       "S    270\n",
       "C    102\n",
       "Q     46\n",
       "Name: Embarked, dtype: int64"
      ]
     },
     "metadata": {},
     "output_type": "display_data"
    }
   ],
   "source": [
    "display(train['Embarked'].value_counts(),\n",
    "        holdout['Embarked'].value_counts())"
   ]
  },
  {
   "cell_type": "code",
   "execution_count": 5,
   "metadata": {},
   "outputs": [],
   "source": [
    "def process_missing(df):\n",
    "    \"\"\"\n",
    "    Handle various missing values from the data set\n",
    "\n",
    "    \"\"\"\n",
    "    \n",
    "    df[\"Fare\"] = df[\"Fare\"].fillna(train[\"Fare\"].mean())\n",
    "    df[\"Embarked\"] = df[\"Embarked\"].fillna(\"S\")  # Fill missing values with value with highest occurrence \n",
    "    \n",
    "    return df\n",
    "\n",
    "train = process_missing(train)\n",
    "holdout = process_missing(holdout)"
   ]
  },
  {
   "cell_type": "markdown",
   "metadata": {},
   "source": [
    "## 2.2 Pclass"
   ]
  },
  {
   "cell_type": "code",
   "execution_count": 6,
   "metadata": {},
   "outputs": [
    {
     "data": {
      "text/html": [
       "<div>\n",
       "<style scoped>\n",
       "    .dataframe tbody tr th:only-of-type {\n",
       "        vertical-align: middle;\n",
       "    }\n",
       "\n",
       "    .dataframe tbody tr th {\n",
       "        vertical-align: top;\n",
       "    }\n",
       "\n",
       "    .dataframe thead th {\n",
       "        text-align: right;\n",
       "    }\n",
       "</style>\n",
       "<table border=\"1\" class=\"dataframe\">\n",
       "  <thead>\n",
       "    <tr style=\"text-align: right;\">\n",
       "      <th></th>\n",
       "      <th>Survived</th>\n",
       "    </tr>\n",
       "    <tr>\n",
       "      <th>Pclass</th>\n",
       "      <th></th>\n",
       "    </tr>\n",
       "  </thead>\n",
       "  <tbody>\n",
       "    <tr>\n",
       "      <th>1</th>\n",
       "      <td>0.629630</td>\n",
       "    </tr>\n",
       "    <tr>\n",
       "      <th>2</th>\n",
       "      <td>0.472826</td>\n",
       "    </tr>\n",
       "    <tr>\n",
       "      <th>3</th>\n",
       "      <td>0.242363</td>\n",
       "    </tr>\n",
       "  </tbody>\n",
       "</table>\n",
       "</div>"
      ],
      "text/plain": [
       "        Survived\n",
       "Pclass          \n",
       "1       0.629630\n",
       "2       0.472826\n",
       "3       0.242363"
      ]
     },
     "metadata": {},
     "output_type": "display_data"
    },
    {
     "data": {
      "image/png": "[encoded data removed]",
      "text/plain": [
       "<Figure size 576x396 with 1 Axes>"
      ]
     },
     "metadata": {},
     "output_type": "display_data"
    }
   ],
   "source": [
    "# Plot survival rate based on ticket class\n",
    "\n",
    "import seaborn as sns\n",
    "import matplotlib.pyplot as plt\n",
    "%matplotlib inline\n",
    "\n",
    "# Table form\n",
    "pclass_survival = train.pivot_table(values='Survived', index='Pclass')\n",
    "\n",
    "# Set figure size for Jupyter Notebook once\n",
    "plt.rcParams['figure.figsize'] = [8, 5.5]\n",
    "\n",
    "# Seaborn bar plot\n",
    "sns.set(font_scale=1.1)\n",
    "sns.set_style(\"whitegrid\")\n",
    "sns.barplot(x=pclass_survival.index, y='Survived', data=pclass_survival, palette='crest')\n",
    "plt.title(\"Passenger Survival Rate Based on Ticket Class\")\n",
    "plt.ylabel(\"Survival Rate\")\n",
    "\n",
    "display(pclass_survival)\n",
    "plt.show()"
   ]
  },
  {
   "cell_type": "markdown",
   "metadata": {},
   "source": [
    "Passengers with a higher ticket class (`Pclass` = 1) have a much higher chance of survival (more than double the rate of third class passengers). Survival rate of second class passengers are also almost double that of third class passengers. From this, we can glean that first and second class passengers might have been prioritized for survival. What's more is that the majority of the passengers are third class, more than first and second class combined."
   ]
  },
  {
   "cell_type": "code",
   "execution_count": 7,
   "metadata": {},
   "outputs": [
    {
     "name": "stdout",
     "output_type": "stream",
     "text": [
      "Number of passengers in each ticket class:\n"
     ]
    },
    {
     "data": {
      "text/plain": [
       "1    216\n",
       "2    184\n",
       "3    491\n",
       "Name: Pclass, dtype: int64"
      ]
     },
     "execution_count": 7,
     "metadata": {},
     "output_type": "execute_result"
    }
   ],
   "source": [
    "print(\"Number of passengers in each ticket class:\")\n",
    "train['Pclass'].value_counts().sort_index()"
   ]
  },
  {
   "cell_type": "markdown",
   "metadata": {},
   "source": [
    "## 2.3 Sex"
   ]
  },
  {
   "cell_type": "code",
   "execution_count": 8,
   "metadata": {},
   "outputs": [
    {
     "data": {
      "text/html": [
       "<div>\n",
       "<style scoped>\n",
       "    .dataframe tbody tr th:only-of-type {\n",
       "        vertical-align: middle;\n",
       "    }\n",
       "\n",
       "    .dataframe tbody tr th {\n",
       "        vertical-align: top;\n",
       "    }\n",
       "\n",
       "    .dataframe thead th {\n",
       "        text-align: right;\n",
       "    }\n",
       "</style>\n",
       "<table border=\"1\" class=\"dataframe\">\n",
       "  <thead>\n",
       "    <tr style=\"text-align: right;\">\n",
       "      <th></th>\n",
       "      <th>Survived</th>\n",
       "    </tr>\n",
       "    <tr>\n",
       "      <th>Sex</th>\n",
       "      <th></th>\n",
       "    </tr>\n",
       "  </thead>\n",
       "  <tbody>\n",
       "    <tr>\n",
       "      <th>female</th>\n",
       "      <td>0.742038</td>\n",
       "    </tr>\n",
       "    <tr>\n",
       "      <th>male</th>\n",
       "      <td>0.188908</td>\n",
       "    </tr>\n",
       "  </tbody>\n",
       "</table>\n",
       "</div>"
      ],
      "text/plain": [
       "        Survived\n",
       "Sex             \n",
       "female  0.742038\n",
       "male    0.188908"
      ]
     },
     "metadata": {},
     "output_type": "display_data"
    },
    {
     "data": {
      "image/png": "[encoded data removed]",
      "text/plain": [
       "<Figure size 576x396 with 1 Axes>"
      ]
     },
     "metadata": {},
     "output_type": "display_data"
    }
   ],
   "source": [
    "# Plot survival rate based on sex\n",
    "sex_survival = train.pivot_table(values='Survived', index='Sex')\n",
    "\n",
    "sns.set(font_scale=1.1)\n",
    "sns.set_style(\"whitegrid\")\n",
    "sns.barplot(x=sex_survival.index, y='Survived', data=sex_survival, palette='Set2')\n",
    "plt.title(\"Passenger Survival Rate Based on Sex\")\n",
    "plt.ylabel(\"Survival Rate\")\n",
    "\n",
    "display(sex_survival)\n",
    "plt.show()"
   ]
  },
  {
   "cell_type": "markdown",
   "metadata": {},
   "source": [
    "Female passengers have an incredibly higher survival rate, more than three times that of male passengers. It seeems that women were prioritized over men for survival.\n",
    "\n",
    "Let's take a look if this is consistent throughout the ticket classes."
   ]
  },
  {
   "cell_type": "code",
   "execution_count": 9,
   "metadata": {
    "scrolled": false
   },
   "outputs": [
    {
     "data": {
      "text/html": [
       "<div>\n",
       "<style scoped>\n",
       "    .dataframe tbody tr th:only-of-type {\n",
       "        vertical-align: middle;\n",
       "    }\n",
       "\n",
       "    .dataframe tbody tr th {\n",
       "        vertical-align: top;\n",
       "    }\n",
       "\n",
       "    .dataframe thead th {\n",
       "        text-align: right;\n",
       "    }\n",
       "</style>\n",
       "<table border=\"1\" class=\"dataframe\">\n",
       "  <thead>\n",
       "    <tr style=\"text-align: right;\">\n",
       "      <th></th>\n",
       "      <th></th>\n",
       "      <th>Survived</th>\n",
       "    </tr>\n",
       "    <tr>\n",
       "      <th>Pclass</th>\n",
       "      <th>Sex</th>\n",
       "      <th></th>\n",
       "    </tr>\n",
       "  </thead>\n",
       "  <tbody>\n",
       "    <tr>\n",
       "      <th rowspan=\"2\" valign=\"top\">1</th>\n",
       "      <th>female</th>\n",
       "      <td>0.968085</td>\n",
       "    </tr>\n",
       "    <tr>\n",
       "      <th>male</th>\n",
       "      <td>0.368852</td>\n",
       "    </tr>\n",
       "    <tr>\n",
       "      <th rowspan=\"2\" valign=\"top\">2</th>\n",
       "      <th>female</th>\n",
       "      <td>0.921053</td>\n",
       "    </tr>\n",
       "    <tr>\n",
       "      <th>male</th>\n",
       "      <td>0.157407</td>\n",
       "    </tr>\n",
       "    <tr>\n",
       "      <th rowspan=\"2\" valign=\"top\">3</th>\n",
       "      <th>female</th>\n",
       "      <td>0.500000</td>\n",
       "    </tr>\n",
       "    <tr>\n",
       "      <th>male</th>\n",
       "      <td>0.135447</td>\n",
       "    </tr>\n",
       "  </tbody>\n",
       "</table>\n",
       "</div>"
      ],
      "text/plain": [
       "               Survived\n",
       "Pclass Sex             \n",
       "1      female  0.968085\n",
       "       male    0.368852\n",
       "2      female  0.921053\n",
       "       male    0.157407\n",
       "3      female  0.500000\n",
       "       male    0.135447"
      ]
     },
     "metadata": {},
     "output_type": "display_data"
    },
    {
     "data": {
      "image/png": "[encoded data removed]",
      "text/plain": [
       "<Figure size 576x396 with 1 Axes>"
      ]
     },
     "metadata": {},
     "output_type": "display_data"
    }
   ],
   "source": [
    "# Plot survival rate based on sex for each ticket class\n",
    "\n",
    "# Table form\n",
    "pclass_sex_survival = train.pivot_table(values='Survived', index=['Pclass', 'Sex'])\n",
    "display(pclass_sex_survival)\n",
    "\n",
    "# Seaborn bar plot\n",
    "sns.set(font_scale=1.1)\n",
    "sns.set_style(\"whitegrid\")\n",
    "sns.barplot(x='Pclass', y='Survived', hue='Sex', data=train, palette='Set2', ci=None)\n",
    "plt.title(\"Passenger Survival Rate in Each Ticket Class Based on Sex\")\n",
    "plt.ylabel(\"Survival Rate\")\n",
    "\n",
    "plt.show()"
   ]
  },
  {
   "cell_type": "markdown",
   "metadata": {},
   "source": [
    "The plot above confirms that female passengers were heavily prioritized. Let's take a look at the raw count below."
   ]
  },
  {
   "cell_type": "code",
   "execution_count": 10,
   "metadata": {},
   "outputs": [
    {
     "data": {
      "text/html": [
       "<div>\n",
       "<style scoped>\n",
       "    .dataframe tbody tr th:only-of-type {\n",
       "        vertical-align: middle;\n",
       "    }\n",
       "\n",
       "    .dataframe tbody tr th {\n",
       "        vertical-align: top;\n",
       "    }\n",
       "\n",
       "    .dataframe thead th {\n",
       "        text-align: right;\n",
       "    }\n",
       "</style>\n",
       "<table border=\"1\" class=\"dataframe\">\n",
       "  <thead>\n",
       "    <tr style=\"text-align: right;\">\n",
       "      <th></th>\n",
       "      <th>Survived</th>\n",
       "      <th>0</th>\n",
       "      <th>1</th>\n",
       "    </tr>\n",
       "    <tr>\n",
       "      <th>Pclass</th>\n",
       "      <th>Sex</th>\n",
       "      <th></th>\n",
       "      <th></th>\n",
       "    </tr>\n",
       "  </thead>\n",
       "  <tbody>\n",
       "    <tr>\n",
       "      <th rowspan=\"2\" valign=\"top\">1</th>\n",
       "      <th>female</th>\n",
       "      <td>3</td>\n",
       "      <td>91</td>\n",
       "    </tr>\n",
       "    <tr>\n",
       "      <th>male</th>\n",
       "      <td>77</td>\n",
       "      <td>45</td>\n",
       "    </tr>\n",
       "    <tr>\n",
       "      <th rowspan=\"2\" valign=\"top\">2</th>\n",
       "      <th>female</th>\n",
       "      <td>6</td>\n",
       "      <td>70</td>\n",
       "    </tr>\n",
       "    <tr>\n",
       "      <th>male</th>\n",
       "      <td>91</td>\n",
       "      <td>17</td>\n",
       "    </tr>\n",
       "    <tr>\n",
       "      <th rowspan=\"2\" valign=\"top\">3</th>\n",
       "      <th>female</th>\n",
       "      <td>72</td>\n",
       "      <td>72</td>\n",
       "    </tr>\n",
       "    <tr>\n",
       "      <th>male</th>\n",
       "      <td>300</td>\n",
       "      <td>47</td>\n",
       "    </tr>\n",
       "  </tbody>\n",
       "</table>\n",
       "</div>"
      ],
      "text/plain": [
       "Survived         0   1\n",
       "Pclass Sex            \n",
       "1      female    3  91\n",
       "       male     77  45\n",
       "2      female    6  70\n",
       "       male     91  17\n",
       "3      female   72  72\n",
       "       male    300  47"
      ]
     },
     "metadata": {},
     "output_type": "display_data"
    },
    {
     "data": {
      "image/png": "[encoded data removed]",
      "text/plain": [
       "<Figure size 576x396 with 1 Axes>"
      ]
     },
     "metadata": {},
     "output_type": "display_data"
    }
   ],
   "source": [
    "# Plot survival count for each sex in each ticket class\n",
    "\n",
    "# Table form\n",
    "display(pd.crosstab([train['Pclass'],train['Sex']], train['Survived']))\n",
    "\n",
    "# Seaborn count plot\n",
    "sns.set(font_scale=1.1)\n",
    "sns.set_style(\"whitegrid\")\n",
    "sns.countplot(x='Pclass', hue='Sex', data=train[train['Survived']==1], palette='Set2', hue_order=['male','female'])\n",
    "plt.title(\"Passenger Survival Count in Each Ticket Class Based on Sex\")\n",
    "\n",
    "plt.show()"
   ]
  },
  {
   "cell_type": "markdown",
   "metadata": {},
   "source": [
    "Even though lower class women had a 50% survival rate, there were still more of them who survived compared to upper class men. \n",
    "\n",
    "Let's now one-hot encode the column."
   ]
  },
  {
   "cell_type": "code",
   "execution_count": 11,
   "metadata": {},
   "outputs": [
    {
     "data": {
      "text/plain": [
       "Index(['PassengerId', 'Survived', 'Pclass', 'Name', 'Sex', 'Age', 'SibSp',\n",
       "       'Parch', 'Ticket', 'Fare', 'Cabin', 'Embarked', 'Sex_female'],\n",
       "      dtype='object')"
      ]
     },
     "execution_count": 11,
     "metadata": {},
     "output_type": "execute_result"
    }
   ],
   "source": [
    "train = create_dummies(train, 'Sex')\n",
    "train = train.drop('Sex_male', axis=1) # because redundant info\n",
    "holdout = create_dummies(holdout, 'Sex')\n",
    "holdout = holdout.drop('Sex_male', axis=1)\n",
    "\n",
    "train.columns"
   ]
  },
  {
   "cell_type": "markdown",
   "metadata": {},
   "source": [
    "## 2.4 Cabin\n",
    "Let's now tackle the column with about 77% missing data."
   ]
  },
  {
   "cell_type": "code",
   "execution_count": 12,
   "metadata": {
    "scrolled": false
   },
   "outputs": [
    {
     "data": {
      "text/plain": [
       "NaN            687\n",
       "C23 C25 C27      4\n",
       "G6               4\n",
       "B96 B98          4\n",
       "C22 C26          3\n",
       "              ... \n",
       "E34              1\n",
       "C7               1\n",
       "C54              1\n",
       "E36              1\n",
       "C148             1\n",
       "Name: Cabin, Length: 148, dtype: int64"
      ]
     },
     "execution_count": 12,
     "metadata": {},
     "output_type": "execute_result"
    }
   ],
   "source": [
    "train['Cabin'].value_counts(dropna=False)"
   ]
  },
  {
   "cell_type": "markdown",
   "metadata": {},
   "source": [
    "`Cabin` looks like it has a large number of unique values. The values look like they're comprised of a letter followed by a one-, two-, or three-digit number. A quick Google search of the Titanic cabin layout lead me to believe that these values are decks and room numbers. Let's take a look into the deck values."
   ]
  },
  {
   "cell_type": "code",
   "execution_count": 13,
   "metadata": {
    "scrolled": false
   },
   "outputs": [
    {
     "data": {
      "text/plain": [
       "NaN    687\n",
       "C       59\n",
       "B       47\n",
       "D       33\n",
       "E       32\n",
       "A       15\n",
       "F       13\n",
       "G        4\n",
       "T        1\n",
       "Name: Cabin, dtype: int64"
      ]
     },
     "execution_count": 13,
     "metadata": {},
     "output_type": "execute_result"
    }
   ],
   "source": [
    "train['Cabin'].str[0].value_counts(dropna=False)"
   ]
  },
  {
   "cell_type": "markdown",
   "metadata": {},
   "source": [
    "This seems better as we now have a fewer number of unique values. We'll deal with the missing values by filling them with \"Unknown\"."
   ]
  },
  {
   "cell_type": "code",
   "execution_count": 14,
   "metadata": {},
   "outputs": [],
   "source": [
    "def process_cabin(df):\n",
    "    \"\"\"\n",
    "    Process the Cabin column into pre-defined 'bins' \n",
    "\n",
    "    \"\"\"\n",
    "    \n",
    "    df[\"Deck\"] = df[\"Cabin\"].str[0]\n",
    "    df[\"Deck\"] = df[\"Deck\"].fillna(\"Unknown\")\n",
    "    df = df.drop('Cabin', axis=1)\n",
    "    \n",
    "    return df\n",
    "\n",
    "train = process_cabin(train)\n",
    "holdout = process_cabin(holdout)"
   ]
  },
  {
   "cell_type": "markdown",
   "metadata": {},
   "source": [
    "Let's visualize survival based on which deck a passenger was in."
   ]
  },
  {
   "cell_type": "code",
   "execution_count": 15,
   "metadata": {
    "scrolled": false
   },
   "outputs": [
    {
     "data": {
      "image/png": "[encoded data removed]",
      "text/plain": [
       "<Figure size 576x396 with 1 Axes>"
      ]
     },
     "metadata": {},
     "output_type": "display_data"
    }
   ],
   "source": [
    "# Plot `Deck` against survival rate\n",
    "\n",
    "deck_survival = train.pivot_table(values='Survived', index='Deck')\n",
    "\n",
    "sns.set_style(\"whitegrid\")\n",
    "sns.barplot(x=deck_survival.index, y='Survived', data=deck_survival, palette=\"Set2\")\n",
    "plt.title(\"Passenger Survival Rate Based on Deck\")\n",
    "plt.ylabel(\"Survival Rate\")\n",
    "\n",
    "plt.show()"
   ]
  },
  {
   "cell_type": "markdown",
   "metadata": {},
   "source": [
    "Except for `Deck_T`, it seems that those without deck data have the lowest survival rate. A look into the data shows that there was only one passenger who had the T deck value. There's not much disparity between differing decks except for between `Deck_Unknown` and the rest. \n",
    "\n",
    "Let's take a look at the relationship between `Deck` and `Pclass` to see if we can glean more information."
   ]
  },
  {
   "cell_type": "code",
   "execution_count": 16,
   "metadata": {
    "scrolled": true
   },
   "outputs": [
    {
     "data": {
      "text/html": [
       "<div>\n",
       "<style scoped>\n",
       "    .dataframe tbody tr th:only-of-type {\n",
       "        vertical-align: middle;\n",
       "    }\n",
       "\n",
       "    .dataframe tbody tr th {\n",
       "        vertical-align: top;\n",
       "    }\n",
       "\n",
       "    .dataframe thead th {\n",
       "        text-align: right;\n",
       "    }\n",
       "</style>\n",
       "<table border=\"1\" class=\"dataframe\">\n",
       "  <thead>\n",
       "    <tr style=\"text-align: right;\">\n",
       "      <th>Pclass</th>\n",
       "      <th>1</th>\n",
       "      <th>2</th>\n",
       "      <th>3</th>\n",
       "    </tr>\n",
       "    <tr>\n",
       "      <th>Deck</th>\n",
       "      <th></th>\n",
       "      <th></th>\n",
       "      <th></th>\n",
       "    </tr>\n",
       "  </thead>\n",
       "  <tbody>\n",
       "    <tr>\n",
       "      <th>A</th>\n",
       "      <td>15</td>\n",
       "      <td>0</td>\n",
       "      <td>0</td>\n",
       "    </tr>\n",
       "    <tr>\n",
       "      <th>B</th>\n",
       "      <td>47</td>\n",
       "      <td>0</td>\n",
       "      <td>0</td>\n",
       "    </tr>\n",
       "    <tr>\n",
       "      <th>C</th>\n",
       "      <td>59</td>\n",
       "      <td>0</td>\n",
       "      <td>0</td>\n",
       "    </tr>\n",
       "    <tr>\n",
       "      <th>D</th>\n",
       "      <td>29</td>\n",
       "      <td>4</td>\n",
       "      <td>0</td>\n",
       "    </tr>\n",
       "    <tr>\n",
       "      <th>E</th>\n",
       "      <td>25</td>\n",
       "      <td>4</td>\n",
       "      <td>3</td>\n",
       "    </tr>\n",
       "    <tr>\n",
       "      <th>F</th>\n",
       "      <td>0</td>\n",
       "      <td>8</td>\n",
       "      <td>5</td>\n",
       "    </tr>\n",
       "    <tr>\n",
       "      <th>G</th>\n",
       "      <td>0</td>\n",
       "      <td>0</td>\n",
       "      <td>4</td>\n",
       "    </tr>\n",
       "    <tr>\n",
       "      <th>T</th>\n",
       "      <td>1</td>\n",
       "      <td>0</td>\n",
       "      <td>0</td>\n",
       "    </tr>\n",
       "    <tr>\n",
       "      <th>Unknown</th>\n",
       "      <td>40</td>\n",
       "      <td>168</td>\n",
       "      <td>479</td>\n",
       "    </tr>\n",
       "  </tbody>\n",
       "</table>\n",
       "</div>"
      ],
      "text/plain": [
       "Pclass    1    2    3\n",
       "Deck                 \n",
       "A        15    0    0\n",
       "B        47    0    0\n",
       "C        59    0    0\n",
       "D        29    4    0\n",
       "E        25    4    3\n",
       "F         0    8    5\n",
       "G         0    0    4\n",
       "T         1    0    0\n",
       "Unknown  40  168  479"
      ]
     },
     "execution_count": 16,
     "metadata": {},
     "output_type": "execute_result"
    }
   ],
   "source": [
    "ct = pd.crosstab(train['Deck'], train['Pclass'])\n",
    "ct"
   ]
  },
  {
   "cell_type": "markdown",
   "metadata": {},
   "source": [
    "It looks like Unknown deck data is correlated with lower class passengers. Decks A, B, and C are composed of only first class passengers. Not counting Unknown deck data, second class passengers only occupy decks D, E, and F, and third class passengers only show up in lower decks E, F, and G. The two features seem to be correlated. Let's visualize this with survival rate."
   ]
  },
  {
   "cell_type": "code",
   "execution_count": 17,
   "metadata": {},
   "outputs": [
    {
     "data": {
      "image/png": "[encoded data removed]",
      "text/plain": [
       "<Figure size 576x396 with 1 Axes>"
      ]
     },
     "metadata": {},
     "output_type": "display_data"
    }
   ],
   "source": [
    "deck_pclass_survival = train.pivot_table(index=['Deck','Pclass'], values='Survived').reset_index()\n",
    "\n",
    "sns.barplot(data=deck_pclass_survival, x='Deck', hue='Pclass', y='Survived', ci=None, palette='Set2')\n",
    "plt.ylabel(\"Survival Rate\")\n",
    "plt.title(\"Survival Rate Based on Deck and Pclass\")\n",
    "\n",
    "plt.show()"
   ]
  },
  {
   "cell_type": "markdown",
   "metadata": {},
   "source": [
    "It looks as if first class passengers occupy more of the upper decks (A, B, C), second class passengers middle decks (D, E, F), and third class passengers lower deck (E, F, G). `Deck` seems to be correlated with `Pclass`, so we'll drop it. \n",
    "\n",
    "We can also confirm the high correlation between `Deck` and `Pclass` below."
   ]
  },
  {
   "cell_type": "code",
   "execution_count": 18,
   "metadata": {},
   "outputs": [
    {
     "name": "stdout",
     "output_type": "stream",
     "text": [
      "Correlation of Deck and Pclass: 0.7466157070176257\n"
     ]
    }
   ],
   "source": [
    "# Convert nominal to ordinal in order to calculate correlation\n",
    "train['Deck'] = train['Deck'].astype('category')\n",
    "train['Deck'] = train['Deck'].cat.codes                                                      \n",
    "train['Deck'] = train['Deck'].astype(int)\n",
    "\n",
    "print(\"Correlation of Deck and Pclass:\",train.corr()['Deck']['Pclass'])"
   ]
  },
  {
   "cell_type": "markdown",
   "metadata": {},
   "source": [
    "## 2.5 Embarked"
   ]
  },
  {
   "cell_type": "code",
   "execution_count": 19,
   "metadata": {},
   "outputs": [
    {
     "data": {
      "text/plain": [
       "S    646\n",
       "C    168\n",
       "Q     77\n",
       "Name: Embarked, dtype: int64"
      ]
     },
     "execution_count": 19,
     "metadata": {},
     "output_type": "execute_result"
    }
   ],
   "source": [
    "train['Embarked'].value_counts()"
   ]
  },
  {
   "cell_type": "code",
   "execution_count": 20,
   "metadata": {},
   "outputs": [
    {
     "data": {
      "text/html": [
       "<div>\n",
       "<style scoped>\n",
       "    .dataframe tbody tr th:only-of-type {\n",
       "        vertical-align: middle;\n",
       "    }\n",
       "\n",
       "    .dataframe tbody tr th {\n",
       "        vertical-align: top;\n",
       "    }\n",
       "\n",
       "    .dataframe thead th {\n",
       "        text-align: right;\n",
       "    }\n",
       "</style>\n",
       "<table border=\"1\" class=\"dataframe\">\n",
       "  <thead>\n",
       "    <tr style=\"text-align: right;\">\n",
       "      <th></th>\n",
       "      <th>Survived</th>\n",
       "    </tr>\n",
       "    <tr>\n",
       "      <th>Embarked</th>\n",
       "      <th></th>\n",
       "    </tr>\n",
       "  </thead>\n",
       "  <tbody>\n",
       "    <tr>\n",
       "      <th>C</th>\n",
       "      <td>0.553571</td>\n",
       "    </tr>\n",
       "    <tr>\n",
       "      <th>Q</th>\n",
       "      <td>0.389610</td>\n",
       "    </tr>\n",
       "    <tr>\n",
       "      <th>S</th>\n",
       "      <td>0.339009</td>\n",
       "    </tr>\n",
       "  </tbody>\n",
       "</table>\n",
       "</div>"
      ],
      "text/plain": [
       "          Survived\n",
       "Embarked          \n",
       "C         0.553571\n",
       "Q         0.389610\n",
       "S         0.339009"
      ]
     },
     "metadata": {},
     "output_type": "display_data"
    },
    {
     "data": {
      "image/png": "[encoded data removed]",
      "text/plain": [
       "<Figure size 576x396 with 1 Axes>"
      ]
     },
     "metadata": {},
     "output_type": "display_data"
    }
   ],
   "source": [
    "# Survival rate based on where passengers embarked\n",
    "embarked_survival = train.pivot_table(index='Embarked', values='Survived')\n",
    "display(embarked_survival)\n",
    "\n",
    "# Survival count based on where passengers embarked\n",
    "sns.set(font_scale=1.1)\n",
    "sns.set_style(\"whitegrid\")\n",
    "sns.countplot(x='Embarked', hue='Survived', data=train, palette='Set2', order=embarked_survival.index)\n",
    "plt.title(\"Survival Count Based on Where Passengers Embarked\")\n",
    "plt.text(0,105,\"55%\\nsurvival rate\", horizontalalignment='center', alpha=0.5)\n",
    "plt.text(1,60,\"39%\\nsurvival rate\", horizontalalignment='center', alpha=0.5)\n",
    "plt.text(2,255,\"34%\\nsurvival rate\", horizontalalignment='center', alpha=0.5)\n",
    "\n",
    "plt.show()"
   ]
  },
  {
   "cell_type": "markdown",
   "metadata": {},
   "source": [
    "The plot looks interesting. A majority of the passengers embarked from Southampton, which had the lowest survival rate. Let's see if there's a correlation between port of embarkation and ticket class."
   ]
  },
  {
   "cell_type": "code",
   "execution_count": 21,
   "metadata": {
    "scrolled": false
   },
   "outputs": [
    {
     "data": {
      "text/html": [
       "<div>\n",
       "<style scoped>\n",
       "    .dataframe tbody tr th:only-of-type {\n",
       "        vertical-align: middle;\n",
       "    }\n",
       "\n",
       "    .dataframe tbody tr th {\n",
       "        vertical-align: top;\n",
       "    }\n",
       "\n",
       "    .dataframe thead th {\n",
       "        text-align: right;\n",
       "    }\n",
       "</style>\n",
       "<table border=\"1\" class=\"dataframe\">\n",
       "  <thead>\n",
       "    <tr style=\"text-align: right;\">\n",
       "      <th></th>\n",
       "      <th></th>\n",
       "      <th></th>\n",
       "      <th>Survived</th>\n",
       "      <th>Total Passengers</th>\n",
       "      <th>Survival Rate</th>\n",
       "    </tr>\n",
       "    <tr>\n",
       "      <th>Embarked</th>\n",
       "      <th>Pclass</th>\n",
       "      <th>Sex</th>\n",
       "      <th></th>\n",
       "      <th></th>\n",
       "      <th></th>\n",
       "    </tr>\n",
       "  </thead>\n",
       "  <tbody>\n",
       "    <tr>\n",
       "      <th rowspan=\"6\" valign=\"top\">C</th>\n",
       "      <th rowspan=\"2\" valign=\"top\">1</th>\n",
       "      <th>female</th>\n",
       "      <td>42</td>\n",
       "      <td>43</td>\n",
       "      <td>0.976744</td>\n",
       "    </tr>\n",
       "    <tr>\n",
       "      <th>male</th>\n",
       "      <td>17</td>\n",
       "      <td>42</td>\n",
       "      <td>0.404762</td>\n",
       "    </tr>\n",
       "    <tr>\n",
       "      <th rowspan=\"2\" valign=\"top\">2</th>\n",
       "      <th>female</th>\n",
       "      <td>7</td>\n",
       "      <td>7</td>\n",
       "      <td>1.000000</td>\n",
       "    </tr>\n",
       "    <tr>\n",
       "      <th>male</th>\n",
       "      <td>2</td>\n",
       "      <td>10</td>\n",
       "      <td>0.200000</td>\n",
       "    </tr>\n",
       "    <tr>\n",
       "      <th rowspan=\"2\" valign=\"top\">3</th>\n",
       "      <th>female</th>\n",
       "      <td>15</td>\n",
       "      <td>23</td>\n",
       "      <td>0.652174</td>\n",
       "    </tr>\n",
       "    <tr>\n",
       "      <th>male</th>\n",
       "      <td>10</td>\n",
       "      <td>43</td>\n",
       "      <td>0.232558</td>\n",
       "    </tr>\n",
       "    <tr>\n",
       "      <th rowspan=\"6\" valign=\"top\">Q</th>\n",
       "      <th rowspan=\"2\" valign=\"top\">1</th>\n",
       "      <th>female</th>\n",
       "      <td>1</td>\n",
       "      <td>1</td>\n",
       "      <td>1.000000</td>\n",
       "    </tr>\n",
       "    <tr>\n",
       "      <th>male</th>\n",
       "      <td>0</td>\n",
       "      <td>1</td>\n",
       "      <td>0.000000</td>\n",
       "    </tr>\n",
       "    <tr>\n",
       "      <th rowspan=\"2\" valign=\"top\">2</th>\n",
       "      <th>female</th>\n",
       "      <td>2</td>\n",
       "      <td>2</td>\n",
       "      <td>1.000000</td>\n",
       "    </tr>\n",
       "    <tr>\n",
       "      <th>male</th>\n",
       "      <td>0</td>\n",
       "      <td>1</td>\n",
       "      <td>0.000000</td>\n",
       "    </tr>\n",
       "    <tr>\n",
       "      <th rowspan=\"2\" valign=\"top\">3</th>\n",
       "      <th>female</th>\n",
       "      <td>24</td>\n",
       "      <td>33</td>\n",
       "      <td>0.727273</td>\n",
       "    </tr>\n",
       "    <tr>\n",
       "      <th>male</th>\n",
       "      <td>3</td>\n",
       "      <td>39</td>\n",
       "      <td>0.076923</td>\n",
       "    </tr>\n",
       "    <tr>\n",
       "      <th rowspan=\"6\" valign=\"top\">S</th>\n",
       "      <th rowspan=\"2\" valign=\"top\">1</th>\n",
       "      <th>female</th>\n",
       "      <td>48</td>\n",
       "      <td>50</td>\n",
       "      <td>0.960000</td>\n",
       "    </tr>\n",
       "    <tr>\n",
       "      <th>male</th>\n",
       "      <td>28</td>\n",
       "      <td>79</td>\n",
       "      <td>0.354430</td>\n",
       "    </tr>\n",
       "    <tr>\n",
       "      <th rowspan=\"2\" valign=\"top\">2</th>\n",
       "      <th>female</th>\n",
       "      <td>61</td>\n",
       "      <td>67</td>\n",
       "      <td>0.910448</td>\n",
       "    </tr>\n",
       "    <tr>\n",
       "      <th>male</th>\n",
       "      <td>15</td>\n",
       "      <td>97</td>\n",
       "      <td>0.154639</td>\n",
       "    </tr>\n",
       "    <tr>\n",
       "      <th rowspan=\"2\" valign=\"top\">3</th>\n",
       "      <th>female</th>\n",
       "      <td>33</td>\n",
       "      <td>88</td>\n",
       "      <td>0.375000</td>\n",
       "    </tr>\n",
       "    <tr>\n",
       "      <th>male</th>\n",
       "      <td>34</td>\n",
       "      <td>265</td>\n",
       "      <td>0.128302</td>\n",
       "    </tr>\n",
       "  </tbody>\n",
       "</table>\n",
       "</div>"
      ],
      "text/plain": [
       "                        Survived  Total Passengers  Survival Rate\n",
       "Embarked Pclass Sex                                              \n",
       "C        1      female        42                43       0.976744\n",
       "                male          17                42       0.404762\n",
       "         2      female         7                 7       1.000000\n",
       "                male           2                10       0.200000\n",
       "         3      female        15                23       0.652174\n",
       "                male          10                43       0.232558\n",
       "Q        1      female         1                 1       1.000000\n",
       "                male           0                 1       0.000000\n",
       "         2      female         2                 2       1.000000\n",
       "                male           0                 1       0.000000\n",
       "         3      female        24                33       0.727273\n",
       "                male           3                39       0.076923\n",
       "S        1      female        48                50       0.960000\n",
       "                male          28                79       0.354430\n",
       "         2      female        61                67       0.910448\n",
       "                male          15                97       0.154639\n",
       "         3      female        33                88       0.375000\n",
       "                male          34               265       0.128302"
      ]
     },
     "execution_count": 21,
     "metadata": {},
     "output_type": "execute_result"
    }
   ],
   "source": [
    "train.pivot_table(index=['Pclass', 'Embarked'], values='Survived')\n",
    "e_corr = train[['Embarked','Pclass','Sex','Survived']].groupby(['Embarked','Pclass','Sex']).agg(['sum','count','mean'])\n",
    "e_corr.columns = ['Survived','Total Passengers','Survival Rate']\n",
    "e_corr"
   ]
  },
  {
   "cell_type": "markdown",
   "metadata": {},
   "source": [
    "It seems that the majority of lower class male passengers embarking from Southampton widely contributes to Southampton's low survival rate, and we know that lower class passengers, especially men, have lower survival rates. Hence, I don't think `Embarked` gives us new information.\n",
    "\n",
    "More importantly, it doesn't make sense that the port of embarkation would matter in who survived aboard the ship. We'll drop this column."
   ]
  },
  {
   "cell_type": "markdown",
   "metadata": {},
   "source": [
    "## 2.5 Age\n",
    "Let's now analyze the `Age` column, which has about 20% missing data."
   ]
  },
  {
   "cell_type": "code",
   "execution_count": 22,
   "metadata": {},
   "outputs": [
    {
     "data": {
      "text/plain": [
       "177"
      ]
     },
     "execution_count": 22,
     "metadata": {},
     "output_type": "execute_result"
    }
   ],
   "source": [
    "train['Age'].isnull().sum()"
   ]
  },
  {
   "cell_type": "code",
   "execution_count": 23,
   "metadata": {},
   "outputs": [
    {
     "data": {
      "image/png": "[encoded data removed]",
      "text/plain": [
       "<Figure size 1080x432 with 1 Axes>"
      ]
     },
     "metadata": {},
     "output_type": "display_data"
    }
   ],
   "source": [
    "# Plot survival based on passenger age\n",
    "import numpy as np\n",
    "\n",
    "# Set figure size\n",
    "plt.rcParams['figure.figsize'] = [15, 6]\n",
    "\n",
    "# Plot kernel density estimate plot\n",
    "sns.set_style(\"whitegrid\")\n",
    "sns.kdeplot(data=train, x='Age', hue='Survived', fill=True, palette=[\"red\", \"green\"], alpha=0.2)\n",
    "\n",
    "min_age = train['Age'].min()\n",
    "max_age = train['Age'].max()\n",
    "plt.xticks(np.arange(np.floor(min_age), np.ceil(max_age) + 1, 5))\n",
    "plt.xlim(np.floor(min_age), np.ceil(max_age))\n",
    "plt.title(\"Survival Based on Passenger Age\")\n",
    "\n",
    "plt.show()"
   ]
  },
  {
   "cell_type": "markdown",
   "metadata": {},
   "source": [
    "Based on our plot above,\n",
    "* Most passengers are more likely to die than to survive, with passengers between the ages of ~18 and 35 having an incredibly high chance of dying\n",
    "* Children (Age < 10) have a much higher chance of survival (tapering off from 5 to 9)\n",
    "* Ultimately, age seems to be an important feature in determining survival, particularly the dynamic between children who are more likely to survive and other age groups who are more likely to die\n",
    "* We can reason from this data that along with women, children were likely prioritized for survival\n"
   ]
  },
  {
   "cell_type": "markdown",
   "metadata": {},
   "source": [
    "We'll turn our attention to the `Name` column for now to deal with the missing age values. If we take a look into the `Name` of a passenger, we can glean their title from it. We'll extract these titles and utilize them in filling in the missing ages. Then, we'll cluster the ages afterwards."
   ]
  },
  {
   "cell_type": "markdown",
   "metadata": {},
   "source": [
    "### 2.5.1 Extracting Title from Name"
   ]
  },
  {
   "cell_type": "code",
   "execution_count": 24,
   "metadata": {
    "scrolled": false
   },
   "outputs": [
    {
     "data": {
      "text/plain": [
       "0                              Braund, Mr. Owen Harris\n",
       "1    Cumings, Mrs. John Bradley (Florence Briggs Th...\n",
       "2                               Heikkinen, Miss. Laina\n",
       "3         Futrelle, Mrs. Jacques Heath (Lily May Peel)\n",
       "4                             Allen, Mr. William Henry\n",
       "Name: Name, dtype: object"
      ]
     },
     "execution_count": 24,
     "metadata": {},
     "output_type": "execute_result"
    }
   ],
   "source": [
    "train['Name'].head()"
   ]
  },
  {
   "cell_type": "markdown",
   "metadata": {},
   "source": [
    "Notice that a passenger has a title in their name (Mr., Mrs., Miss., etc.). "
   ]
  },
  {
   "cell_type": "code",
   "execution_count": 25,
   "metadata": {},
   "outputs": [
    {
     "data": {
      "text/plain": [
       "Mr          757\n",
       "Miss        260\n",
       "Mrs         197\n",
       "Master       61\n",
       "Rev           8\n",
       "Dr            8\n",
       "Col           4\n",
       "Mlle          2\n",
       "Ms            2\n",
       "Major         2\n",
       "Mme           1\n",
       "Capt          1\n",
       "Lady          1\n",
       "Jonkheer      1\n",
       "Dona          1\n",
       "Don           1\n",
       "Countess      1\n",
       "Sir           1\n",
       "dtype: int64"
      ]
     },
     "execution_count": 25,
     "metadata": {},
     "output_type": "execute_result"
    }
   ],
   "source": [
    "# Extract titles\n",
    "combined = pd.concat([train['Name'], holdout['Name']])\n",
    "combined.str.extract(' ([A-Za-z]+)\\.').value_counts()"
   ]
  },
  {
   "cell_type": "markdown",
   "metadata": {},
   "source": [
    "There are a lot of unique values for title, so we'll try to bin them. `Miss` and `Mlle` typically refer to an unmarried woman, so we'll group `Mlle` with `Miss`. We'll also group `Mme` with `Mrs` since they typically refer to a married woman. `Ms` can refer to either `Miss` or `Mrs`; we'll join it with `Mrs`. We'll keep `Mr` and `Master` (young boys under 18) as is. For the rest, we'll categorize them as either an `Officer` or `Nobility`."
   ]
  },
  {
   "cell_type": "code",
   "execution_count": 26,
   "metadata": {},
   "outputs": [
    {
     "data": {
      "text/plain": [
       "Index(['PassengerId', 'Survived', 'Pclass', 'Name', 'Sex', 'Age', 'SibSp',\n",
       "       'Parch', 'Ticket', 'Fare', 'Embarked', 'Sex_female', 'Deck', 'Title'],\n",
       "      dtype='object')"
      ]
     },
     "execution_count": 26,
     "metadata": {},
     "output_type": "execute_result"
    }
   ],
   "source": [
    "def process_titles(df):\n",
    "    \"\"\"\n",
    "    Extract and categorize the title from the name column \n",
    "\n",
    "    \"\"\"\n",
    "    \n",
    "    titles = {\n",
    "        \"Mr\" :         \"Mr\",\n",
    "        \"Mme\":         \"Mrs\",\n",
    "        \"Ms\":          \"Mrs\",\n",
    "        \"Mrs\" :        \"Mrs\",\n",
    "        \"Master\" :     \"Master\",\n",
    "        \"Mlle\":        \"Miss\",\n",
    "        \"Miss\" :       \"Miss\",\n",
    "        \"Capt\":        \"Officer\",\n",
    "        \"Col\":         \"Officer\",\n",
    "        \"Major\":       \"Officer\",\n",
    "        \"Dr\":          \"Officer\",\n",
    "        \"Rev\":         \"Officer\",\n",
    "        \"Jonkheer\":    \"Nobility\",\n",
    "        \"Don\":         \"Nobility\",\n",
    "        \"Dona\":        \"Nobility\",\n",
    "        \"Sir\" :        \"Nobility\",\n",
    "        \"Countess\":    \"Nobility\",\n",
    "        \"Lady\" :       \"Nobility\"\n",
    "    }\n",
    "    \n",
    "    extracted_titles = df[\"Name\"].str.extract(' ([A-Za-z]+)\\.', expand=False)\n",
    "    df[\"Title\"] = extracted_titles.map(titles)\n",
    "    \n",
    "    return df\n",
    "\n",
    "train = process_titles(train)\n",
    "holdout = process_titles(holdout)\n",
    "train.columns"
   ]
  },
  {
   "cell_type": "code",
   "execution_count": 27,
   "metadata": {},
   "outputs": [
    {
     "data": {
      "text/html": [
       "<div>\n",
       "<style scoped>\n",
       "    .dataframe tbody tr th:only-of-type {\n",
       "        vertical-align: middle;\n",
       "    }\n",
       "\n",
       "    .dataframe tbody tr th {\n",
       "        vertical-align: top;\n",
       "    }\n",
       "\n",
       "    .dataframe thead th {\n",
       "        text-align: right;\n",
       "    }\n",
       "</style>\n",
       "<table border=\"1\" class=\"dataframe\">\n",
       "  <thead>\n",
       "    <tr style=\"text-align: right;\">\n",
       "      <th></th>\n",
       "      <th></th>\n",
       "      <th>Survived</th>\n",
       "    </tr>\n",
       "    <tr>\n",
       "      <th>Title</th>\n",
       "      <th>Sex</th>\n",
       "      <th></th>\n",
       "    </tr>\n",
       "  </thead>\n",
       "  <tbody>\n",
       "    <tr>\n",
       "      <th>Master</th>\n",
       "      <th>male</th>\n",
       "      <td>0.575000</td>\n",
       "    </tr>\n",
       "    <tr>\n",
       "      <th>Miss</th>\n",
       "      <th>female</th>\n",
       "      <td>0.701087</td>\n",
       "    </tr>\n",
       "    <tr>\n",
       "      <th>Mr</th>\n",
       "      <th>male</th>\n",
       "      <td>0.156673</td>\n",
       "    </tr>\n",
       "    <tr>\n",
       "      <th>Mrs</th>\n",
       "      <th>female</th>\n",
       "      <td>0.795276</td>\n",
       "    </tr>\n",
       "    <tr>\n",
       "      <th rowspan=\"2\" valign=\"top\">Nobility</th>\n",
       "      <th>female</th>\n",
       "      <td>1.000000</td>\n",
       "    </tr>\n",
       "    <tr>\n",
       "      <th>male</th>\n",
       "      <td>0.333333</td>\n",
       "    </tr>\n",
       "    <tr>\n",
       "      <th rowspan=\"2\" valign=\"top\">Officer</th>\n",
       "      <th>female</th>\n",
       "      <td>1.000000</td>\n",
       "    </tr>\n",
       "    <tr>\n",
       "      <th>male</th>\n",
       "      <td>0.235294</td>\n",
       "    </tr>\n",
       "  </tbody>\n",
       "</table>\n",
       "</div>"
      ],
      "text/plain": [
       "                 Survived\n",
       "Title    Sex             \n",
       "Master   male    0.575000\n",
       "Miss     female  0.701087\n",
       "Mr       male    0.156673\n",
       "Mrs      female  0.795276\n",
       "Nobility female  1.000000\n",
       "         male    0.333333\n",
       "Officer  female  1.000000\n",
       "         male    0.235294"
      ]
     },
     "execution_count": 27,
     "metadata": {},
     "output_type": "execute_result"
    }
   ],
   "source": [
    "# Survival rate based on passenger title and sex\n",
    "train.pivot_table(index=['Title', 'Sex'], values='Survived')"
   ]
  },
  {
   "cell_type": "markdown",
   "metadata": {},
   "source": [
    "I'm not convinced that we can gain new information for our model from `Title` that's not already covered by `Sex` and would be by `Age` (for boys whose survival rate is higher than men). These survival rates seem to be attributed by the `Sex` of the passengers. The high survival rate of `Master` supports our findings that women and children were prioritized for survival. Ultimately, it seems that `Title` and `Sex` are correlated, so we won't one-hot encode it and will drop it after our data analysis."
   ]
  },
  {
   "cell_type": "markdown",
   "metadata": {},
   "source": [
    "### 2.5.2 Utilize Title for Missing Age Values\n",
    "For each `Title` and `Sex`, we'll take the average age of passengers and use that to fill in the missing age values. This would be a more precise way compared to simply filling in with the mean of the `Age` column or binning missing values with a `Missing` label. This is especially important for passengers who are children. "
   ]
  },
  {
   "cell_type": "code",
   "execution_count": 28,
   "metadata": {},
   "outputs": [
    {
     "data": {
      "text/plain": [
       "0.2937853107344633"
      ]
     },
     "execution_count": 28,
     "metadata": {},
     "output_type": "execute_result"
    }
   ],
   "source": [
    "train[train['Age'].isnull()]['Survived'].mean()"
   ]
  },
  {
   "cell_type": "markdown",
   "metadata": {},
   "source": [
    "We see above how low the survival rate is for passengers with missing age values. We wouldn't want women and children, who have high survival rates, to be associated with a low survival rate because of their missing age value."
   ]
  },
  {
   "cell_type": "code",
   "execution_count": 29,
   "metadata": {},
   "outputs": [
    {
     "data": {
      "text/plain": [
       "4.574166666666667"
      ]
     },
     "execution_count": 29,
     "metadata": {},
     "output_type": "execute_result"
    }
   ],
   "source": [
    "# Mean age of young boys\n",
    "train[train['Title']=='Master']['Age'].mean()"
   ]
  },
  {
   "cell_type": "code",
   "execution_count": 30,
   "metadata": {
    "scrolled": true
   },
   "outputs": [
    {
     "data": {
      "text/plain": [
       "21.804054054054053"
      ]
     },
     "execution_count": 30,
     "metadata": {},
     "output_type": "execute_result"
    }
   ],
   "source": [
    "# Mean age of 'Miss' title\n",
    "train[train['Title']=='Miss']['Age'].mean()"
   ]
  },
  {
   "cell_type": "markdown",
   "metadata": {},
   "source": [
    "I think it's highly important to fill in the missing ages of children, since they have a high survival rate. However, only male children have a specific `Title` of `Master`. Female children fall under `Miss` along with unmarried female adults. It's mentioned in Kaggle that some children traveled only with a nanny, hence the `Parch` = 0 for them. We'll ignore this detail and assume that a majority of children traveled with their parents."
   ]
  },
  {
   "cell_type": "code",
   "execution_count": 31,
   "metadata": {
    "scrolled": true
   },
   "outputs": [
    {
     "data": {
      "text/plain": [
       "11.863636363636363"
      ]
     },
     "execution_count": 31,
     "metadata": {},
     "output_type": "execute_result"
    }
   ],
   "source": [
    "# Mean age of 'Miss' title who traveled with parents\n",
    "train[(train['Title']=='Miss') & (train['Parch'] > 0)]['Age'].mean()"
   ]
  },
  {
   "cell_type": "markdown",
   "metadata": {},
   "source": [
    "This is a much better age to use to fill in for female children. We'll change the title of `Miss` to `MissChild` for those who traveled with their parents."
   ]
  },
  {
   "cell_type": "code",
   "execution_count": 32,
   "metadata": {},
   "outputs": [],
   "source": [
    "train.loc[(train['Title']=='Miss') & (train['Parch'] > 0), 'Title'] = 'MissChild'"
   ]
  },
  {
   "cell_type": "code",
   "execution_count": 33,
   "metadata": {
    "scrolled": true
   },
   "outputs": [
    {
     "data": {
      "text/plain": [
       "27.682795698924732"
      ]
     },
     "execution_count": 33,
     "metadata": {},
     "output_type": "execute_result"
    }
   ],
   "source": [
    "# Mean age of 'Miss' title who didn't travel with parents\n",
    "train[train['Title']=='Miss']['Age'].mean()"
   ]
  },
  {
   "cell_type": "markdown",
   "metadata": {},
   "source": [
    "Let's make a pivot table for easy lookup of mean `Age` based on `Pclass`, `Sex`, and `Title`."
   ]
  },
  {
   "cell_type": "code",
   "execution_count": 34,
   "metadata": {},
   "outputs": [
    {
     "data": {
      "text/html": [
       "<div>\n",
       "<style scoped>\n",
       "    .dataframe tbody tr th:only-of-type {\n",
       "        vertical-align: middle;\n",
       "    }\n",
       "\n",
       "    .dataframe tbody tr th {\n",
       "        vertical-align: top;\n",
       "    }\n",
       "\n",
       "    .dataframe thead th {\n",
       "        text-align: right;\n",
       "    }\n",
       "</style>\n",
       "<table border=\"1\" class=\"dataframe\">\n",
       "  <thead>\n",
       "    <tr style=\"text-align: right;\">\n",
       "      <th></th>\n",
       "      <th></th>\n",
       "      <th></th>\n",
       "      <th>Age</th>\n",
       "    </tr>\n",
       "    <tr>\n",
       "      <th>Pclass</th>\n",
       "      <th>Title</th>\n",
       "      <th>Sex</th>\n",
       "      <th></th>\n",
       "    </tr>\n",
       "  </thead>\n",
       "  <tbody>\n",
       "    <tr>\n",
       "      <th rowspan=\"9\" valign=\"top\">1</th>\n",
       "      <th>Master</th>\n",
       "      <th>male</th>\n",
       "      <td>5.306667</td>\n",
       "    </tr>\n",
       "    <tr>\n",
       "      <th>Miss</th>\n",
       "      <th>female</th>\n",
       "      <td>34.258065</td>\n",
       "    </tr>\n",
       "    <tr>\n",
       "      <th>MissChild</th>\n",
       "      <th>female</th>\n",
       "      <td>21.000000</td>\n",
       "    </tr>\n",
       "    <tr>\n",
       "      <th>Mr</th>\n",
       "      <th>male</th>\n",
       "      <td>41.580460</td>\n",
       "    </tr>\n",
       "    <tr>\n",
       "      <th>Mrs</th>\n",
       "      <th>female</th>\n",
       "      <td>40.400000</td>\n",
       "    </tr>\n",
       "    <tr>\n",
       "      <th rowspan=\"2\" valign=\"top\">Nobility</th>\n",
       "      <th>female</th>\n",
       "      <td>40.500000</td>\n",
       "    </tr>\n",
       "    <tr>\n",
       "      <th>male</th>\n",
       "      <td>42.333333</td>\n",
       "    </tr>\n",
       "    <tr>\n",
       "      <th rowspan=\"2\" valign=\"top\">Officer</th>\n",
       "      <th>female</th>\n",
       "      <td>49.000000</td>\n",
       "    </tr>\n",
       "    <tr>\n",
       "      <th>male</th>\n",
       "      <td>51.125000</td>\n",
       "    </tr>\n",
       "    <tr>\n",
       "      <th rowspan=\"6\" valign=\"top\">2</th>\n",
       "      <th>Master</th>\n",
       "      <th>male</th>\n",
       "      <td>2.258889</td>\n",
       "    </tr>\n",
       "    <tr>\n",
       "      <th>Miss</th>\n",
       "      <th>female</th>\n",
       "      <td>30.500000</td>\n",
       "    </tr>\n",
       "    <tr>\n",
       "      <th>MissChild</th>\n",
       "      <th>female</th>\n",
       "      <td>10.538462</td>\n",
       "    </tr>\n",
       "    <tr>\n",
       "      <th>Mr</th>\n",
       "      <th>male</th>\n",
       "      <td>32.768293</td>\n",
       "    </tr>\n",
       "    <tr>\n",
       "      <th>Mrs</th>\n",
       "      <th>female</th>\n",
       "      <td>33.547619</td>\n",
       "    </tr>\n",
       "    <tr>\n",
       "      <th>Officer</th>\n",
       "      <th>male</th>\n",
       "      <td>42.000000</td>\n",
       "    </tr>\n",
       "    <tr>\n",
       "      <th rowspan=\"5\" valign=\"top\">3</th>\n",
       "      <th>Master</th>\n",
       "      <th>male</th>\n",
       "      <td>5.350833</td>\n",
       "    </tr>\n",
       "    <tr>\n",
       "      <th>Miss</th>\n",
       "      <th>female</th>\n",
       "      <td>21.697674</td>\n",
       "    </tr>\n",
       "    <tr>\n",
       "      <th>MissChild</th>\n",
       "      <th>female</th>\n",
       "      <td>6.903846</td>\n",
       "    </tr>\n",
       "    <tr>\n",
       "      <th>Mr</th>\n",
       "      <th>male</th>\n",
       "      <td>28.724891</td>\n",
       "    </tr>\n",
       "    <tr>\n",
       "      <th>Mrs</th>\n",
       "      <th>female</th>\n",
       "      <td>33.515152</td>\n",
       "    </tr>\n",
       "  </tbody>\n",
       "</table>\n",
       "</div>"
      ],
      "text/plain": [
       "                               Age\n",
       "Pclass Title     Sex              \n",
       "1      Master    male     5.306667\n",
       "       Miss      female  34.258065\n",
       "       MissChild female  21.000000\n",
       "       Mr        male    41.580460\n",
       "       Mrs       female  40.400000\n",
       "       Nobility  female  40.500000\n",
       "                 male    42.333333\n",
       "       Officer   female  49.000000\n",
       "                 male    51.125000\n",
       "2      Master    male     2.258889\n",
       "       Miss      female  30.500000\n",
       "       MissChild female  10.538462\n",
       "       Mr        male    32.768293\n",
       "       Mrs       female  33.547619\n",
       "       Officer   male    42.000000\n",
       "3      Master    male     5.350833\n",
       "       Miss      female  21.697674\n",
       "       MissChild female   6.903846\n",
       "       Mr        male    28.724891\n",
       "       Mrs       female  33.515152"
      ]
     },
     "execution_count": 34,
     "metadata": {},
     "output_type": "execute_result"
    }
   ],
   "source": [
    "piv = train.pivot_table(index=['Pclass','Title', 'Sex'], values='Age')\n",
    "piv"
   ]
  },
  {
   "cell_type": "code",
   "execution_count": 35,
   "metadata": {},
   "outputs": [
    {
     "data": {
      "text/plain": [
       "30.5"
      ]
     },
     "execution_count": 35,
     "metadata": {},
     "output_type": "execute_result"
    }
   ],
   "source": [
    "# How to index\n",
    "piv.loc[2, 'Miss', 'female']['Age']"
   ]
  },
  {
   "cell_type": "markdown",
   "metadata": {},
   "source": [
    "We'll now fill in the missing age values."
   ]
  },
  {
   "cell_type": "code",
   "execution_count": 36,
   "metadata": {},
   "outputs": [],
   "source": [
    "def process_missing_age(row):\n",
    "    \"\"\"\n",
    "    Returns the mean age on the pivot table based on `Title` and `Sex`\n",
    "    \"\"\"\n",
    "    return piv.loc[row['Pclass'], row['Title'], row['Sex']]['Age']"
   ]
  },
  {
   "cell_type": "code",
   "execution_count": 37,
   "metadata": {},
   "outputs": [],
   "source": [
    "# Replace missing age values with mean age based on `Sex` and `Title`\n",
    "train['Age'] = train.apply(lambda x: process_missing_age(x) if pd.isnull(x['Age']) else x['Age'], axis=1)"
   ]
  },
  {
   "cell_type": "code",
   "execution_count": 38,
   "metadata": {},
   "outputs": [
    {
     "data": {
      "text/plain": [
       "0"
      ]
     },
     "execution_count": 38,
     "metadata": {},
     "output_type": "execute_result"
    }
   ],
   "source": [
    "train['Age'].isnull().sum()"
   ]
  },
  {
   "cell_type": "markdown",
   "metadata": {},
   "source": [
    "Great! We successfully filled in the missing age values. Let's do the same with the test data using the same pivot table for training data."
   ]
  },
  {
   "cell_type": "code",
   "execution_count": 39,
   "metadata": {},
   "outputs": [
    {
     "data": {
      "text/plain": [
       "0"
      ]
     },
     "execution_count": 39,
     "metadata": {},
     "output_type": "execute_result"
    }
   ],
   "source": [
    "holdout['Age'] = holdout.apply(lambda x: process_missing_age(x) if pd.isnull(x['Age']) else x['Age'], axis=1)\n",
    "holdout['Age'].isnull().sum()"
   ]
  },
  {
   "cell_type": "markdown",
   "metadata": {},
   "source": [
    "### 2.5.3 Age Bins\n",
    "After we've filled in the null values for `Age`, we're now ready to cluster them."
   ]
  },
  {
   "cell_type": "code",
   "execution_count": 40,
   "metadata": {
    "scrolled": true
   },
   "outputs": [
    {
     "data": {
      "text/html": [
       "<div>\n",
       "<style scoped>\n",
       "    .dataframe tbody tr th:only-of-type {\n",
       "        vertical-align: middle;\n",
       "    }\n",
       "\n",
       "    .dataframe tbody tr th {\n",
       "        vertical-align: top;\n",
       "    }\n",
       "\n",
       "    .dataframe thead th {\n",
       "        text-align: right;\n",
       "    }\n",
       "</style>\n",
       "<table border=\"1\" class=\"dataframe\">\n",
       "  <thead>\n",
       "    <tr style=\"text-align: right;\">\n",
       "      <th></th>\n",
       "      <th>min Age</th>\n",
       "      <th>max Age</th>\n",
       "    </tr>\n",
       "    <tr>\n",
       "      <th>cluster</th>\n",
       "      <th></th>\n",
       "      <th></th>\n",
       "    </tr>\n",
       "  </thead>\n",
       "  <tbody>\n",
       "    <tr>\n",
       "      <th>3</th>\n",
       "      <td>0.42</td>\n",
       "      <td>12.0</td>\n",
       "    </tr>\n",
       "    <tr>\n",
       "      <th>1</th>\n",
       "      <td>13.00</td>\n",
       "      <td>25.0</td>\n",
       "    </tr>\n",
       "    <tr>\n",
       "      <th>2</th>\n",
       "      <td>26.00</td>\n",
       "      <td>37.0</td>\n",
       "    </tr>\n",
       "    <tr>\n",
       "      <th>0</th>\n",
       "      <td>38.00</td>\n",
       "      <td>52.0</td>\n",
       "    </tr>\n",
       "    <tr>\n",
       "      <th>4</th>\n",
       "      <td>53.00</td>\n",
       "      <td>80.0</td>\n",
       "    </tr>\n",
       "  </tbody>\n",
       "</table>\n",
       "</div>"
      ],
      "text/plain": [
       "         min Age  max Age\n",
       "cluster                  \n",
       "3           0.42     12.0\n",
       "1          13.00     25.0\n",
       "2          26.00     37.0\n",
       "0          38.00     52.0\n",
       "4          53.00     80.0"
      ]
     },
     "metadata": {},
     "output_type": "display_data"
    }
   ],
   "source": [
    "# Use KMeans to cluster Age\n",
    "from sklearn.cluster import KMeans\n",
    "\n",
    "X = train[['Age','Survived']].copy()\n",
    "km = KMeans(5, random_state=1).fit(X)\n",
    "X['cluster'] = km.labels_\n",
    "\n",
    "# Sort Age ranges by ascending\n",
    "age_clusters = pd.concat([X.groupby('cluster')['Age'].min().sort_values(), X.groupby('cluster')['Age'].max().sort_values()], axis=1)\n",
    "age_clusters.columns = [\"min Age\", \"max Age\"]\n",
    "display(age_clusters)"
   ]
  },
  {
   "cell_type": "code",
   "execution_count": 41,
   "metadata": {
    "scrolled": true
   },
   "outputs": [],
   "source": [
    "def process_age(df):\n",
    "    \"\"\"\n",
    "    Process the Age column into pre-defined 'bins' \n",
    "\n",
    "    \"\"\"\n",
    "    \n",
    "    cut_points = [0, 12, 25, 37, 52, 100]\n",
    "    label_names = [\"0-12\",\"13-25\",\"26-37\",\"38-52\",\"53+\"]\n",
    "    df[\"AgeBand\"] = pd.cut(df[\"Age\"], cut_points, labels=label_names)\n",
    "    \n",
    "    return df\n",
    "\n",
    "train = process_age(train)\n",
    "holdout = process_age(holdout)"
   ]
  },
  {
   "cell_type": "code",
   "execution_count": 42,
   "metadata": {},
   "outputs": [],
   "source": [
    "# convert nominal to ordinal\n",
    "train['AgeBand'] = train['AgeBand'].cat.codes.astype(int)\n",
    "holdout['AgeBand'] = holdout['AgeBand'].cat.codes.astype(int)"
   ]
  },
  {
   "cell_type": "code",
   "execution_count": 43,
   "metadata": {
    "scrolled": true
   },
   "outputs": [
    {
     "data": {
      "text/html": [
       "<div>\n",
       "<style scoped>\n",
       "    .dataframe tbody tr th:only-of-type {\n",
       "        vertical-align: middle;\n",
       "    }\n",
       "\n",
       "    .dataframe tbody tr th {\n",
       "        vertical-align: top;\n",
       "    }\n",
       "\n",
       "    .dataframe thead th {\n",
       "        text-align: right;\n",
       "    }\n",
       "</style>\n",
       "<table border=\"1\" class=\"dataframe\">\n",
       "  <thead>\n",
       "    <tr style=\"text-align: right;\">\n",
       "      <th></th>\n",
       "      <th>Survived</th>\n",
       "    </tr>\n",
       "    <tr>\n",
       "      <th>AgeBand</th>\n",
       "      <th></th>\n",
       "    </tr>\n",
       "  </thead>\n",
       "  <tbody>\n",
       "    <tr>\n",
       "      <th>0</th>\n",
       "      <td>0.524390</td>\n",
       "    </tr>\n",
       "    <tr>\n",
       "      <th>1</th>\n",
       "      <td>0.398438</td>\n",
       "    </tr>\n",
       "    <tr>\n",
       "      <th>2</th>\n",
       "      <td>0.336310</td>\n",
       "    </tr>\n",
       "    <tr>\n",
       "      <th>3</th>\n",
       "      <td>0.403614</td>\n",
       "    </tr>\n",
       "    <tr>\n",
       "      <th>4</th>\n",
       "      <td>0.333333</td>\n",
       "    </tr>\n",
       "  </tbody>\n",
       "</table>\n",
       "</div>"
      ],
      "text/plain": [
       "         Survived\n",
       "AgeBand          \n",
       "0        0.524390\n",
       "1        0.398438\n",
       "2        0.336310\n",
       "3        0.403614\n",
       "4        0.333333"
      ]
     },
     "execution_count": 43,
     "metadata": {},
     "output_type": "execute_result"
    }
   ],
   "source": [
    "# Survival rate based on age group\n",
    "train.pivot_table(index=['AgeBand'], values='Survived')"
   ]
  },
  {
   "cell_type": "markdown",
   "metadata": {},
   "source": [
    "This data looks promising. We'll move on to the next possible feature."
   ]
  },
  {
   "cell_type": "code",
   "execution_count": 44,
   "metadata": {},
   "outputs": [
    {
     "data": {
      "text/plain": [
       "Index(['PassengerId', 'Survived', 'Pclass', 'Name', 'Sex', 'Age', 'SibSp',\n",
       "       'Parch', 'Ticket', 'Fare', 'Embarked', 'Sex_female', 'Deck', 'Title',\n",
       "       'AgeBand'],\n",
       "      dtype='object')"
      ]
     },
     "execution_count": 44,
     "metadata": {},
     "output_type": "execute_result"
    }
   ],
   "source": [
    "train.columns"
   ]
  },
  {
   "cell_type": "markdown",
   "metadata": {},
   "source": [
    "## 2.6 Fare"
   ]
  },
  {
   "cell_type": "code",
   "execution_count": 45,
   "metadata": {},
   "outputs": [
    {
     "data": {
      "text/plain": [
       "count    891.000000\n",
       "mean      32.204208\n",
       "std       49.693429\n",
       "min        0.000000\n",
       "25%        7.910400\n",
       "50%       14.454200\n",
       "75%       31.000000\n",
       "max      512.329200\n",
       "Name: Fare, dtype: float64"
      ]
     },
     "execution_count": 45,
     "metadata": {},
     "output_type": "execute_result"
    }
   ],
   "source": [
    "train['Fare'].describe()"
   ]
  },
  {
   "cell_type": "code",
   "execution_count": 46,
   "metadata": {},
   "outputs": [
    {
     "data": {
      "image/png": "[encoded data removed]",
      "text/plain": [
       "<Figure size 720x432 with 1 Axes>"
      ]
     },
     "metadata": {},
     "output_type": "display_data"
    }
   ],
   "source": [
    "# Plot of survival rate based on passenger fare\n",
    "\n",
    "# Set figure size\n",
    "plt.rcParams['figure.figsize'] = [10, 6]\n",
    "\n",
    "# Plot kernel density estimate plot\n",
    "sns.set_style(\"whitegrid\")\n",
    "sns.kdeplot(data=train, x='Fare', hue='Survived', fill=True, palette=[\"red\", \"green\"], alpha=0.2)\n",
    "\n",
    "min_fare = train['Fare'].min()\n",
    "max_fare = train['Fare'].max()\n",
    "plt.xticks(np.arange(np.floor(min_fare), 300, 50))\n",
    "plt.xlim(np.floor(min_fare), 300)\n",
    "plt.title(\"Survival Based on Passenger Fare\")\n",
    "\n",
    "plt.show()"
   ]
  },
  {
   "cell_type": "markdown",
   "metadata": {},
   "source": [
    "We see that survival rate increases as `Fare` increases, which makes sense. It's likely that `Fare` is correlated with `Pclass`. A passenger with a higher `Fare` is morely likely to be in first or second class rather than third class. We can see the progression below."
   ]
  },
  {
   "cell_type": "code",
   "execution_count": 47,
   "metadata": {
    "scrolled": false
   },
   "outputs": [
    {
     "data": {
      "text/plain": [
       "Pclass_1    0.591711\n",
       "Pclass_2   -0.118557\n",
       "Pclass_3   -0.413333\n",
       "Pclass     -0.549500\n",
       "Name: Fare, dtype: float64"
      ]
     },
     "metadata": {},
     "output_type": "display_data"
    }
   ],
   "source": [
    "# Correlation of `Fare` with Pclass\n",
    "train = create_dummies(train, 'Pclass')\n",
    "display(train.corr()['Fare'][['Pclass_1', 'Pclass_2', 'Pclass_3', 'Pclass']])\n",
    "train = train.drop(['Pclass_1', 'Pclass_2', 'Pclass_3'], axis=1)"
   ]
  },
  {
   "cell_type": "markdown",
   "metadata": {},
   "source": [
    "The correlation between `Fare` and `Pclass` is pretty high, but not the worst we've seen. Let's visualize their relationship.\n",
    "\n",
    "First, we'll cluster `Fare`, then visualize the clusters."
   ]
  },
  {
   "cell_type": "code",
   "execution_count": 48,
   "metadata": {},
   "outputs": [
    {
     "data": {
      "text/html": [
       "<div>\n",
       "<style scoped>\n",
       "    .dataframe tbody tr th:only-of-type {\n",
       "        vertical-align: middle;\n",
       "    }\n",
       "\n",
       "    .dataframe tbody tr th {\n",
       "        vertical-align: top;\n",
       "    }\n",
       "\n",
       "    .dataframe thead th {\n",
       "        text-align: right;\n",
       "    }\n",
       "</style>\n",
       "<table border=\"1\" class=\"dataframe\">\n",
       "  <thead>\n",
       "    <tr style=\"text-align: right;\">\n",
       "      <th></th>\n",
       "      <th>min Fare</th>\n",
       "      <th>max Fare</th>\n",
       "    </tr>\n",
       "    <tr>\n",
       "      <th>cluster</th>\n",
       "      <th></th>\n",
       "      <th></th>\n",
       "    </tr>\n",
       "  </thead>\n",
       "  <tbody>\n",
       "    <tr>\n",
       "      <th>0</th>\n",
       "      <td>0.0000</td>\n",
       "      <td>40.1250</td>\n",
       "    </tr>\n",
       "    <tr>\n",
       "      <th>3</th>\n",
       "      <td>41.5792</td>\n",
       "      <td>93.5000</td>\n",
       "    </tr>\n",
       "    <tr>\n",
       "      <th>1</th>\n",
       "      <td>106.4250</td>\n",
       "      <td>164.8667</td>\n",
       "    </tr>\n",
       "    <tr>\n",
       "      <th>4</th>\n",
       "      <td>211.3375</td>\n",
       "      <td>263.0000</td>\n",
       "    </tr>\n",
       "    <tr>\n",
       "      <th>2</th>\n",
       "      <td>512.3292</td>\n",
       "      <td>512.3292</td>\n",
       "    </tr>\n",
       "  </tbody>\n",
       "</table>\n",
       "</div>"
      ],
      "text/plain": [
       "         min Fare  max Fare\n",
       "cluster                    \n",
       "0          0.0000   40.1250\n",
       "3         41.5792   93.5000\n",
       "1        106.4250  164.8667\n",
       "4        211.3375  263.0000\n",
       "2        512.3292  512.3292"
      ]
     },
     "metadata": {},
     "output_type": "display_data"
    }
   ],
   "source": [
    "# Use KMeans to cluster Fare\n",
    "from sklearn.cluster import KMeans\n",
    "\n",
    "X = train[['Fare','Survived']].copy()\n",
    "km = KMeans(5, random_state=1).fit(X)\n",
    "X['cluster'] = km.labels_\n",
    "\n",
    "fare_clusters = pd.concat([X.groupby('cluster')['Fare'].min().sort_values(), X.groupby('cluster')['Fare'].max().sort_values()], axis=1)\n",
    "fare_clusters.columns = [\"min Fare\", \"max Fare\"]\n",
    "display(fare_clusters)"
   ]
  },
  {
   "cell_type": "code",
   "execution_count": 49,
   "metadata": {
    "scrolled": false
   },
   "outputs": [
    {
     "data": {
      "image/png": "[encoded data removed]",
      "text/plain": [
       "<Figure size 720x432 with 1 Axes>"
      ]
     },
     "metadata": {},
     "output_type": "display_data"
    }
   ],
   "source": [
    "# Visualize Fare clusters\n",
    "\n",
    "# Take out the grid\n",
    "sns.set_style(\"whitegrid\", {'axes.grid' : False})\n",
    "\n",
    "### Plotting the decision boundaries ###\n",
    "# from https://scikit-learn.org/stable/auto_examples/cluster/plot_kmeans_digits.html\n",
    "\n",
    "# Step size of the mesh. Decrease to increase the quality of the VQ.\n",
    "h = 0.01  # point in the mesh [x_min, x_max]x[y_min, y_max].\n",
    "\n",
    "# Plot the decision boundary. For that, we will assign a color to each.\n",
    "x_min, x_max = X['Fare'].min(), X['Fare'].max()+1\n",
    "y_min, y_max = X['Survived'].min(), X['Survived'].max()\n",
    "xx, yy = np.meshgrid(np.arange(x_min, x_max, h), np.arange(y_min, y_max, h))\n",
    "\n",
    "# Obtain labels for each point in mesh. Use last trained model.\n",
    "Z = km.predict(np.c_[xx.ravel(), yy.ravel()])\n",
    "\n",
    "# Put the result into a color plot\n",
    "Z = Z.reshape(xx.shape)\n",
    "plt.imshow(Z, interpolation=\"nearest\", \n",
    "           extent=(xx.min(), xx.max(), yy.min(), yy.max()),\n",
    "           aspect=\"auto\", cmap=sns.cubehelix_palette(as_cmap=True))\n",
    "\n",
    "#Plot the Fares\n",
    "sns.scatterplot(x='Fare', y='Survived', hue='cluster', data=X, s=50)\n",
    "\n",
    "# Plot the centroids as a white X\n",
    "centroids = km.cluster_centers_\n",
    "plt.scatter(centroids[:, 0], centroids[:, 1], marker=\"x\", color='w', s=100)\n",
    "\n",
    "plt.ylim(-0.05,1.05)\n",
    "plt.yticks([0,1])\n",
    "plt.xticks(np.arange(0,550,50))\n",
    "plt.legend(loc='lower right')\n",
    "plt.title(\"Fare Clusters and Decision Boundaries\")\n",
    "\n",
    "plt.show()"
   ]
  },
  {
   "cell_type": "markdown",
   "metadata": {},
   "source": [
    "We see based on the centroids on the plot that there's a general trend of higher survival rate as `Fare` increases.\n",
    "\n",
    "We'll create bins based on the clusters above. Then, we can visualize the relationship between each cluster and `Pclass`."
   ]
  },
  {
   "cell_type": "code",
   "execution_count": 50,
   "metadata": {},
   "outputs": [],
   "source": [
    "def process_fare(df):\n",
    "    \"\"\"\n",
    "    Process the Fare column into pre-defined 'bins' \n",
    "\n",
    "    \"\"\"\n",
    "    \n",
    "    cut_points = [-1, 41, 100, 185, 375, 1000]\n",
    "    label_names = [\"0-41\", \"41-100\", \"100-185\", \"185-375\", \"375+\"]\n",
    "    df[\"Fare\"] = pd.cut(df[\"Fare\"], cut_points, labels=label_names)\n",
    "    \n",
    "    return df\n",
    "\n",
    "train = process_fare(train)\n",
    "holdout = process_fare(holdout)"
   ]
  },
  {
   "cell_type": "code",
   "execution_count": 51,
   "metadata": {},
   "outputs": [
    {
     "data": {
      "image/png": "[encoded data removed]",
      "text/plain": [
       "<Figure size 720x432 with 1 Axes>"
      ]
     },
     "metadata": {},
     "output_type": "display_data"
    }
   ],
   "source": [
    "# Plot relationship between Pclass and Fare\n",
    "sns.set(font_scale=1.1)\n",
    "sns.set_style(\"whitegrid\")\n",
    "sns.countplot(x='Pclass', hue='Fare', data=train, palette='Set2')\n",
    "plt.title(\"Passenger Count in Each Ticket Class Based on Fare\")\n",
    "\n",
    "plt.show()"
   ]
  },
  {
   "cell_type": "markdown",
   "metadata": {},
   "source": [
    "From the plot above, we can attribute the higher `Fare`s more clearly to lower `Pclass` as they only show up in `Pclass`=1. As we increase the ticket class, we see that there are more passengers who paid a lower `Fare`, and we know that survival rate decreases as we increase `Pclass`. In conclusion, `Fare` seems to be correlated with `Pclass`. We can't quite say that `Fare` is independently correlated with `Survived`, so we'll drop it."
   ]
  },
  {
   "cell_type": "markdown",
   "metadata": {},
   "source": [
    "We've handled most of the features at this point. The ones we haven't are `SibSp`, `Parch`, and `Ticket`. We'll dive deeper into these features next."
   ]
  },
  {
   "cell_type": "markdown",
   "metadata": {},
   "source": [
    "## 2.7 SibSp and Parch\n",
    "Let's turn our attention to two of our numerical features: `SibSp` and `Parch`."
   ]
  },
  {
   "cell_type": "code",
   "execution_count": 52,
   "metadata": {
    "scrolled": true
   },
   "outputs": [
    {
     "name": "stdout",
     "output_type": "stream",
     "text": [
      "<class 'pandas.core.frame.DataFrame'>\n",
      "RangeIndex: 891 entries, 0 to 890\n",
      "Data columns (total 3 columns):\n",
      " #   Column    Non-Null Count  Dtype\n",
      "---  ------    --------------  -----\n",
      " 0   SibSp     891 non-null    int64\n",
      " 1   Parch     891 non-null    int64\n",
      " 2   Survived  891 non-null    int64\n",
      "dtypes: int64(3)\n",
      "memory usage: 21.0 KB\n"
     ]
    }
   ],
   "source": [
    "explore = train[['SibSp', 'Parch', 'Survived']].copy()\n",
    "explore.info()"
   ]
  },
  {
   "cell_type": "markdown",
   "metadata": {},
   "source": [
    "The `SibSp` column shows the number of siblings and/or spouses each passenger had on board, while the `Parch` column shows the number of parents and/or children each passenger had onboard. Neither column has any missing values."
   ]
  },
  {
   "cell_type": "code",
   "execution_count": 53,
   "metadata": {
    "scrolled": false
   },
   "outputs": [
    {
     "data": {
      "image/png": "[encoded data removed]",
      "text/plain": [
       "<Figure size 720x432 with 1 Axes>"
      ]
     },
     "metadata": {},
     "output_type": "display_data"
    }
   ],
   "source": [
    "# Histogram plot\n",
    "\n",
    "plt.rcParams['figure.figsize'] = [10, 6]\n",
    "\n",
    "explore = explore.drop('Survived', axis=1) # Not relevant for histogram plots\n",
    "\n",
    "# Seaborn bar plot\n",
    "sns.set(font_scale=1.1)\n",
    "sns.set_style(\"whitegrid\")\n",
    "\n",
    "explore.plot.hist(cmap='rainbow', alpha=0.5)\n",
    "#sns.countplot(data=explore, x='SibSp', color='skyblue', alpha=0.3)\n",
    "#sns.countplot(data=explore, x='Parch', color='red', alpha=0.7)\n",
    "plt.title(\"Frequency of the Number of Siblings/Spouses and Parents/Children Aboard the Titanic\", size=14)\n",
    "\n",
    "plt.show()"
   ]
  },
  {
   "cell_type": "code",
   "execution_count": 54,
   "metadata": {},
   "outputs": [
    {
     "data": {
      "text/plain": [
       "0    608\n",
       "1    209\n",
       "2     28\n",
       "3     16\n",
       "4     18\n",
       "5      5\n",
       "8      7\n",
       "Name: SibSp, dtype: int64"
      ]
     },
     "execution_count": 54,
     "metadata": {},
     "output_type": "execute_result"
    }
   ],
   "source": [
    "explore['SibSp'].value_counts().sort_index()"
   ]
  },
  {
   "cell_type": "code",
   "execution_count": 55,
   "metadata": {},
   "outputs": [
    {
     "data": {
      "text/plain": [
       "0    678\n",
       "1    118\n",
       "2     80\n",
       "3      5\n",
       "4      4\n",
       "5      5\n",
       "6      1\n",
       "Name: Parch, dtype: int64"
      ]
     },
     "execution_count": 55,
     "metadata": {},
     "output_type": "execute_result"
    }
   ],
   "source": [
    "explore['Parch'].value_counts().sort_index()"
   ]
  },
  {
   "cell_type": "markdown",
   "metadata": {},
   "source": [
    "The distribution of values in both columns is skewed right, with the majority of values being zero."
   ]
  },
  {
   "cell_type": "markdown",
   "metadata": {},
   "source": [
    "We can sum the two columns to explore the total number of family members each passenger had onboard. "
   ]
  },
  {
   "cell_type": "code",
   "execution_count": 56,
   "metadata": {
    "scrolled": false
   },
   "outputs": [
    {
     "data": {
      "image/png": "[encoded data removed]",
      "text/plain": [
       "<Figure size 720x432 with 1 Axes>"
      ]
     },
     "metadata": {},
     "output_type": "display_data"
    }
   ],
   "source": [
    "# Adding a family size feature to the histogram\n",
    "explore['FamSize'] = explore.sum(axis=1) # SibSp + Parch for every passenger\n",
    "explore.plot.hist(cmap='rainbow',alpha=0.5)\n",
    "plt.title(\"Frequency of the Number of Siblings/Spouses, Parents/Children, and Total Number of Family Members Aboard the Titanic\", size=14)\n",
    "\n",
    "plt.show()"
   ]
  },
  {
   "cell_type": "markdown",
   "metadata": {},
   "source": [
    "The shape of the distribution of values in this case is similar; however, there are fewer values at zero, and the quantity tapers off less rapidly as the values increase."
   ]
  },
  {
   "cell_type": "markdown",
   "metadata": {},
   "source": [
    "Let's take a look at the percentage of survivors with respect to `SibSp`, `Parch`, and `FamSize`."
   ]
  },
  {
   "cell_type": "code",
   "execution_count": 57,
   "metadata": {},
   "outputs": [
    {
     "data": {
      "image/png": "[encoded data removed]",
      "text/plain": [
       "<Figure size 1440x432 with 3 Axes>"
      ]
     },
     "metadata": {},
     "output_type": "display_data"
    }
   ],
   "source": [
    "# Create a pivot table for SibSp, Parch, FamSize and plot the results in bar plot form\n",
    "import matplotlib.patches as mpatches\n",
    "\n",
    "# Add target column back in the DataFrame\n",
    "explore['Survived'] = train['Survived']\n",
    "\n",
    "# For x-axis label\n",
    "feature_dict = {'SibSp': \"Siblings/Spouses\",\n",
    "                'Parch': \"Parents/Children\",\n",
    "                'FamSize': \"Family Members\"}\n",
    "\n",
    "# Make the plots\n",
    "fig, ax = plt.subplots(1,3, figsize=(20,6), sharex=False, sharey=True)\n",
    "count=0\n",
    "for col in explore.drop('Survived', axis=1).columns:\n",
    "    pivot = explore.pivot_table(index=col, values='Survived')\n",
    "    \n",
    "    ax[count].bar(pivot.index, pivot['Survived'])\n",
    "    ax[count].set(xlabel=\"Number of {} Aboard the Titanic\".format(feature_dict[col]))\n",
    "    ax[count].xaxis.label.set_size(16)\n",
    "    ax[count].yaxis.label.set_size(16)\n",
    "    \n",
    "    # Highlight red where percentage of passengers who survived is 0\n",
    "    zero_survival = pivot.loc[pivot['Survived']==0].index\n",
    "    for i in zero_survival:\n",
    "        ax[count].axvspan(i-0.5, i+0.5, color='red', alpha=0.5)\n",
    "    \n",
    "    count+=1\n",
    "\n",
    "# One title and one y-axis label for all plots\n",
    "plt.suptitle(\"Survival Rate Based on the Number of Specific Family Members Passengers Had Aboard with Them\", fontsize=20)\n",
    "ax[0].set_ylabel(\"Survival Rate\")\n",
    "\n",
    "# One legend for all plots\n",
    "red_patch = mpatches.Patch(color='red', label='0% Survival', alpha=0.5)\n",
    "ax[0].legend(handles=[red_patch], fontsize=15)\n",
    "\n",
    "# Automatically adjust subplots to fit in whole area\n",
    "fig.tight_layout()"
   ]
  },
  {
   "cell_type": "markdown",
   "metadata": {},
   "source": [
    "Looking at the survival rates of the the combined family members, you can see that few of the passengers with no family members survived (only 30%), while a greater number of passengers with family members survived.\n",
    "\n",
    "However, we should also note that the graphs are skewed right, meaning that <i>too many</i> family members with the passenger garnered a survival rate of 0% as seen with the red bars. We can see this in the table below as well."
   ]
  },
  {
   "cell_type": "code",
   "execution_count": 58,
   "metadata": {},
   "outputs": [
    {
     "data": {
      "text/html": [
       "<div>\n",
       "<style scoped>\n",
       "    .dataframe tbody tr th:only-of-type {\n",
       "        vertical-align: middle;\n",
       "    }\n",
       "\n",
       "    .dataframe tbody tr th {\n",
       "        vertical-align: top;\n",
       "    }\n",
       "\n",
       "    .dataframe thead th {\n",
       "        text-align: right;\n",
       "    }\n",
       "</style>\n",
       "<table border=\"1\" class=\"dataframe\">\n",
       "  <thead>\n",
       "    <tr style=\"text-align: right;\">\n",
       "      <th></th>\n",
       "      <th>SibSp Survival</th>\n",
       "      <th>Parch Survival</th>\n",
       "      <th>FamSize Survival</th>\n",
       "    </tr>\n",
       "  </thead>\n",
       "  <tbody>\n",
       "    <tr>\n",
       "      <th>0</th>\n",
       "      <td>0.345395</td>\n",
       "      <td>0.343658</td>\n",
       "      <td>0.303538</td>\n",
       "    </tr>\n",
       "    <tr>\n",
       "      <th>1</th>\n",
       "      <td>0.535885</td>\n",
       "      <td>0.550847</td>\n",
       "      <td>0.552795</td>\n",
       "    </tr>\n",
       "    <tr>\n",
       "      <th>2</th>\n",
       "      <td>0.464286</td>\n",
       "      <td>0.500000</td>\n",
       "      <td>0.578431</td>\n",
       "    </tr>\n",
       "    <tr>\n",
       "      <th>3</th>\n",
       "      <td>0.250000</td>\n",
       "      <td>0.600000</td>\n",
       "      <td>0.724138</td>\n",
       "    </tr>\n",
       "    <tr>\n",
       "      <th>4</th>\n",
       "      <td>0.166667</td>\n",
       "      <td>0.000000</td>\n",
       "      <td>0.200000</td>\n",
       "    </tr>\n",
       "    <tr>\n",
       "      <th>5</th>\n",
       "      <td>0.000000</td>\n",
       "      <td>0.200000</td>\n",
       "      <td>0.136364</td>\n",
       "    </tr>\n",
       "    <tr>\n",
       "      <th>6</th>\n",
       "      <td>NaN</td>\n",
       "      <td>0.000000</td>\n",
       "      <td>0.333333</td>\n",
       "    </tr>\n",
       "    <tr>\n",
       "      <th>7</th>\n",
       "      <td>NaN</td>\n",
       "      <td>NaN</td>\n",
       "      <td>0.000000</td>\n",
       "    </tr>\n",
       "    <tr>\n",
       "      <th>8</th>\n",
       "      <td>0.000000</td>\n",
       "      <td>NaN</td>\n",
       "      <td>NaN</td>\n",
       "    </tr>\n",
       "    <tr>\n",
       "      <th>10</th>\n",
       "      <td>NaN</td>\n",
       "      <td>NaN</td>\n",
       "      <td>0.000000</td>\n",
       "    </tr>\n",
       "  </tbody>\n",
       "</table>\n",
       "</div>"
      ],
      "text/plain": [
       "    SibSp Survival  Parch Survival  FamSize Survival\n",
       "0         0.345395        0.343658          0.303538\n",
       "1         0.535885        0.550847          0.552795\n",
       "2         0.464286        0.500000          0.578431\n",
       "3         0.250000        0.600000          0.724138\n",
       "4         0.166667        0.000000          0.200000\n",
       "5         0.000000        0.200000          0.136364\n",
       "6              NaN        0.000000          0.333333\n",
       "7              NaN             NaN          0.000000\n",
       "8         0.000000             NaN               NaN\n",
       "10             NaN             NaN          0.000000"
      ]
     },
     "execution_count": 58,
     "metadata": {},
     "output_type": "execute_result"
    }
   ],
   "source": [
    "# Table version of plots above\n",
    "# Survival rate based on the number of specific family members aboard with passenger\n",
    "# NaN values indicate no passenger had that amount of family members aboard the Titanic\n",
    "fam_survival = pd.concat([explore.pivot_table(index=\"SibSp\", values='Survived'), explore.pivot_table(index=\"Parch\", values='Survived')], axis=1)\n",
    "fam_survival = pd.concat([fam_survival, explore.pivot_table(index=\"FamSize\", values='Survived')], axis=1)\n",
    "fam_survival.columns = [\"SibSp Survival\", \"Parch Survival\", \"FamSize Survival\"]\n",
    "fam_survival"
   ]
  },
  {
   "cell_type": "markdown",
   "metadata": {},
   "source": [
    "From our analysis, it seems better to combine `SibSp` and `Parch` together. Let's add the `FamSize` feature to our datasets."
   ]
  },
  {
   "cell_type": "code",
   "execution_count": 59,
   "metadata": {},
   "outputs": [
    {
     "data": {
      "text/plain": [
       "Index(['PassengerId', 'Survived', 'Pclass', 'Name', 'Sex', 'Age', 'SibSp',\n",
       "       'Parch', 'Ticket', 'Fare', 'Embarked', 'Sex_female', 'Deck', 'Title',\n",
       "       'AgeBand', 'FamSize'],\n",
       "      dtype='object')"
      ]
     },
     "execution_count": 59,
     "metadata": {},
     "output_type": "execute_result"
    }
   ],
   "source": [
    "for df in [train, holdout]:\n",
    "    df['FamSize'] = df[['SibSp', 'Parch']].sum(axis=1)\n",
    "\n",
    "train.columns"
   ]
  },
  {
   "cell_type": "markdown",
   "metadata": {},
   "source": [
    "## 2.8 Ticket\n",
    "Let's now take a look into `Ticket`. At first glance, it seems that each `Ticket` entry is unique to a passenger. However, it looks like multiple passengers can have the same `Ticket` value. We'll infer that passengers who traveled together have identical `Ticket` values."
   ]
  },
  {
   "cell_type": "code",
   "execution_count": 60,
   "metadata": {},
   "outputs": [
    {
     "data": {
      "text/plain": [
       "347082      7\n",
       "CA. 2343    7\n",
       "1601        7\n",
       "3101295     6\n",
       "CA 2144     6\n",
       "           ..\n",
       "9234        1\n",
       "19988       1\n",
       "2693        1\n",
       "PC 17612    1\n",
       "370376      1\n",
       "Name: Ticket, Length: 681, dtype: int64"
      ]
     },
     "execution_count": 60,
     "metadata": {},
     "output_type": "execute_result"
    }
   ],
   "source": [
    "train['Ticket'].value_counts()"
   ]
  },
  {
   "cell_type": "markdown",
   "metadata": {},
   "source": [
    "Let's plot the survival rate based on the number of passengers in a party."
   ]
  },
  {
   "cell_type": "code",
   "execution_count": 61,
   "metadata": {
    "scrolled": false
   },
   "outputs": [
    {
     "data": {
      "image/png": "[encoded data removed]",
      "text/plain": [
       "<Figure size 576x396 with 1 Axes>"
      ]
     },
     "metadata": {},
     "output_type": "display_data"
    }
   ],
   "source": [
    "# Replace `Ticket` column values with the number of people in the passenger's party \n",
    "train['n_Ticket'] = train['Ticket'].replace(train['Ticket'].value_counts())\n",
    "holdout['n_Ticket'] = holdout['Ticket'].replace(holdout['Ticket'].value_counts())\n",
    "\n",
    "# Plot the survival percentage with respect to number of people in the party\n",
    "plt.rcParams['figure.figsize'] = [8, 5.5]\n",
    "sns.set(font_scale=1.1)\n",
    "sns.set_style('whitegrid')\n",
    "\n",
    "sns.barplot(data=train, x='n_Ticket', y='Survived', ci=None, palette='Set2')\n",
    "plt.title(\"Survival Rate Based on the Number of Passengers who Traveled Together\")\n",
    "plt.xlabel(\"Number of Passengers in a Party\")\n",
    "plt.ylabel(\"Survival Rate\")\n",
    "\n",
    "plt.show()"
   ]
  },
  {
   "cell_type": "markdown",
   "metadata": {},
   "source": [
    "It seems that traveling in a group is better for survival, compared to traveling alone. However, too many passengers traveling together lowers survival rate, as seen with having more than 4 people in a party.\n",
    "\n",
    "With this in mind, we'll engineer a new feature."
   ]
  },
  {
   "cell_type": "markdown",
   "metadata": {},
   "source": [
    "# 3. Feature Engineering\n",
    "We'll engineer two new features:\n",
    "* `isAlone`: whether the passenger traveled alone or not\n",
    "* `inWCg`: whether the passenger is in a woman-child group or not"
   ]
  },
  {
   "cell_type": "markdown",
   "metadata": {},
   "source": [
    "## 3.1 Engineer isAlone\n",
    "Based on our exploration of the data, we can engineer a new feature: whether the passenger was alone or not.\n",
    "* `1` if the passenger has zero family members onboard and traveled alone\n",
    "* `0` if the passenger has one or more family members onboard or traveled in a group"
   ]
  },
  {
   "cell_type": "code",
   "execution_count": 62,
   "metadata": {
    "scrolled": true
   },
   "outputs": [
    {
     "name": "stdout",
     "output_type": "stream",
     "text": [
      "Number of solo passengers: 462\n"
     ]
    }
   ],
   "source": [
    "def process_isalone(df):\n",
    "    \"\"\"\n",
    "    Process 'FamSize' and 'n_Ticket' columns to determine if passenger traveled alone\n",
    "    \"\"\"\n",
    "    \n",
    "    # If passenger's family size is 0 and has a unique ticket, they traveled alone\n",
    "    df['isAlone'] = df.apply(lambda x: 1 if (x['FamSize']==0) & (x['n_Ticket']==1) else 0, axis=1)\n",
    "    \n",
    "    return df\n",
    "\n",
    "train = process_isalone(train)\n",
    "holdout = process_isalone(holdout)\n",
    "print(\"Number of solo passengers:\",train[train['isAlone']==1].shape[0])"
   ]
  },
  {
   "cell_type": "code",
   "execution_count": 63,
   "metadata": {},
   "outputs": [
    {
     "data": {
      "text/html": [
       "<div>\n",
       "<style scoped>\n",
       "    .dataframe tbody tr th:only-of-type {\n",
       "        vertical-align: middle;\n",
       "    }\n",
       "\n",
       "    .dataframe tbody tr th {\n",
       "        vertical-align: top;\n",
       "    }\n",
       "\n",
       "    .dataframe thead th {\n",
       "        text-align: right;\n",
       "    }\n",
       "</style>\n",
       "<table border=\"1\" class=\"dataframe\">\n",
       "  <thead>\n",
       "    <tr style=\"text-align: right;\">\n",
       "      <th></th>\n",
       "      <th>Survived</th>\n",
       "    </tr>\n",
       "    <tr>\n",
       "      <th>isAlone</th>\n",
       "      <th></th>\n",
       "    </tr>\n",
       "  </thead>\n",
       "  <tbody>\n",
       "    <tr>\n",
       "      <th>0</th>\n",
       "      <td>0.505828</td>\n",
       "    </tr>\n",
       "    <tr>\n",
       "      <th>1</th>\n",
       "      <td>0.270563</td>\n",
       "    </tr>\n",
       "  </tbody>\n",
       "</table>\n",
       "</div>"
      ],
      "text/plain": [
       "         Survived\n",
       "isAlone          \n",
       "0        0.505828\n",
       "1        0.270563"
      ]
     },
     "metadata": {},
     "output_type": "display_data"
    },
    {
     "data": {
      "image/png": "[encoded data removed]",
      "text/plain": [
       "<Figure size 576x396 with 1 Axes>"
      ]
     },
     "metadata": {},
     "output_type": "display_data"
    }
   ],
   "source": [
    "# Plot survival rate based on if passenger was alone\n",
    "\n",
    "display(train.pivot_table(index='isAlone', values='Survived'))\n",
    "\n",
    "sns.barplot(data=train, x='isAlone', y='Survived', ci=None, palette='Set2')\n",
    "plt.ylabel(\"Survival Rate\")\n",
    "plt.title(\"Survival Rate Based on If a Passenger Traveled Alone or Not\")\n",
    "\n",
    "plt.show()"
   ]
  },
  {
   "cell_type": "markdown",
   "metadata": {},
   "source": [
    "We see that survival rate is almost double for passengers who traveled in a group. \n",
    "\n",
    "We'll drop `FamSize` and `n_Ticket` at the end, since they're correlated with `isAlone`."
   ]
  },
  {
   "cell_type": "markdown",
   "metadata": {},
   "source": [
    "## 3.2 Engineer inWCg"
   ]
  },
  {
   "cell_type": "markdown",
   "metadata": {},
   "source": [
    "From our data analysis, we have gleaned that women and children were prioritized for survival, since they have significantly higher rates of survival. Woman-child groups are female or boy (`Master` title) passengers traveling together. \n",
    "\n",
    "We'll engineer another new feature: whether the passenger is in a woman-child group or not.\n",
    "* `1` if a passenger who is traveling in a group is either a woman or a child\n",
    "* `0` if not"
   ]
  },
  {
   "cell_type": "code",
   "execution_count": 64,
   "metadata": {},
   "outputs": [],
   "source": [
    "def process_inWCg(df):\n",
    "    \"\"\"\n",
    "    Process `isAlone`, `Sex_female`, and `Title` to determine if\n",
    "    passenger is either woman or child and traveled in a group\n",
    "    \"\"\"\n",
    "    df['inWCg'] = df.apply(lambda x: 1 if (x['isAlone']==0) & ((x['Sex_female']==1) or (x['Title']=='Master')) else 0, axis=1)\n",
    "    return df\n",
    "\n",
    "train = process_inWCg(train)\n",
    "holdout = process_inWCg(holdout)"
   ]
  },
  {
   "cell_type": "markdown",
   "metadata": {},
   "source": [
    "We see below that passengers in a woman-child group are likely to share the same fate."
   ]
  },
  {
   "cell_type": "code",
   "execution_count": 65,
   "metadata": {},
   "outputs": [
    {
     "data": {
      "text/html": [
       "<div>\n",
       "<style scoped>\n",
       "    .dataframe tbody tr th:only-of-type {\n",
       "        vertical-align: middle;\n",
       "    }\n",
       "\n",
       "    .dataframe tbody tr th {\n",
       "        vertical-align: top;\n",
       "    }\n",
       "\n",
       "    .dataframe thead th {\n",
       "        text-align: right;\n",
       "    }\n",
       "</style>\n",
       "<table border=\"1\" class=\"dataframe\">\n",
       "  <thead>\n",
       "    <tr style=\"text-align: right;\">\n",
       "      <th></th>\n",
       "      <th>PassengerId</th>\n",
       "      <th>Survived</th>\n",
       "      <th>Pclass</th>\n",
       "      <th>Name</th>\n",
       "      <th>Sex</th>\n",
       "      <th>Age</th>\n",
       "      <th>SibSp</th>\n",
       "      <th>Parch</th>\n",
       "      <th>Ticket</th>\n",
       "      <th>Fare</th>\n",
       "      <th>Embarked</th>\n",
       "      <th>Sex_female</th>\n",
       "      <th>Deck</th>\n",
       "      <th>Title</th>\n",
       "      <th>AgeBand</th>\n",
       "      <th>FamSize</th>\n",
       "      <th>n_Ticket</th>\n",
       "      <th>isAlone</th>\n",
       "      <th>inWCg</th>\n",
       "    </tr>\n",
       "  </thead>\n",
       "  <tbody>\n",
       "    <tr>\n",
       "      <th>1</th>\n",
       "      <td>2</td>\n",
       "      <td>1</td>\n",
       "      <td>1</td>\n",
       "      <td>Cumings, Mrs. John Bradley (Florence Briggs Th...</td>\n",
       "      <td>female</td>\n",
       "      <td>38.0</td>\n",
       "      <td>1</td>\n",
       "      <td>0</td>\n",
       "      <td>PC 17599</td>\n",
       "      <td>41-100</td>\n",
       "      <td>C</td>\n",
       "      <td>1</td>\n",
       "      <td>2</td>\n",
       "      <td>Mrs</td>\n",
       "      <td>3</td>\n",
       "      <td>1</td>\n",
       "      <td>1</td>\n",
       "      <td>0</td>\n",
       "      <td>1</td>\n",
       "    </tr>\n",
       "    <tr>\n",
       "      <th>3</th>\n",
       "      <td>4</td>\n",
       "      <td>1</td>\n",
       "      <td>1</td>\n",
       "      <td>Futrelle, Mrs. Jacques Heath (Lily May Peel)</td>\n",
       "      <td>female</td>\n",
       "      <td>35.0</td>\n",
       "      <td>1</td>\n",
       "      <td>0</td>\n",
       "      <td>113803</td>\n",
       "      <td>41-100</td>\n",
       "      <td>S</td>\n",
       "      <td>1</td>\n",
       "      <td>2</td>\n",
       "      <td>Mrs</td>\n",
       "      <td>2</td>\n",
       "      <td>1</td>\n",
       "      <td>2</td>\n",
       "      <td>0</td>\n",
       "      <td>1</td>\n",
       "    </tr>\n",
       "    <tr>\n",
       "      <th>7</th>\n",
       "      <td>8</td>\n",
       "      <td>0</td>\n",
       "      <td>3</td>\n",
       "      <td>Palsson, Master. Gosta Leonard</td>\n",
       "      <td>male</td>\n",
       "      <td>2.0</td>\n",
       "      <td>3</td>\n",
       "      <td>1</td>\n",
       "      <td>349909</td>\n",
       "      <td>0-41</td>\n",
       "      <td>S</td>\n",
       "      <td>0</td>\n",
       "      <td>8</td>\n",
       "      <td>Master</td>\n",
       "      <td>0</td>\n",
       "      <td>4</td>\n",
       "      <td>4</td>\n",
       "      <td>0</td>\n",
       "      <td>1</td>\n",
       "    </tr>\n",
       "    <tr>\n",
       "      <th>8</th>\n",
       "      <td>9</td>\n",
       "      <td>1</td>\n",
       "      <td>3</td>\n",
       "      <td>Johnson, Mrs. Oscar W (Elisabeth Vilhelmina Berg)</td>\n",
       "      <td>female</td>\n",
       "      <td>27.0</td>\n",
       "      <td>0</td>\n",
       "      <td>2</td>\n",
       "      <td>347742</td>\n",
       "      <td>0-41</td>\n",
       "      <td>S</td>\n",
       "      <td>1</td>\n",
       "      <td>8</td>\n",
       "      <td>Mrs</td>\n",
       "      <td>2</td>\n",
       "      <td>2</td>\n",
       "      <td>3</td>\n",
       "      <td>0</td>\n",
       "      <td>1</td>\n",
       "    </tr>\n",
       "    <tr>\n",
       "      <th>9</th>\n",
       "      <td>10</td>\n",
       "      <td>1</td>\n",
       "      <td>2</td>\n",
       "      <td>Nasser, Mrs. Nicholas (Adele Achem)</td>\n",
       "      <td>female</td>\n",
       "      <td>14.0</td>\n",
       "      <td>1</td>\n",
       "      <td>0</td>\n",
       "      <td>237736</td>\n",
       "      <td>0-41</td>\n",
       "      <td>C</td>\n",
       "      <td>1</td>\n",
       "      <td>8</td>\n",
       "      <td>Mrs</td>\n",
       "      <td>1</td>\n",
       "      <td>1</td>\n",
       "      <td>2</td>\n",
       "      <td>0</td>\n",
       "      <td>1</td>\n",
       "    </tr>\n",
       "  </tbody>\n",
       "</table>\n",
       "</div>"
      ],
      "text/plain": [
       "   PassengerId  Survived  Pclass  \\\n",
       "1            2         1       1   \n",
       "3            4         1       1   \n",
       "7            8         0       3   \n",
       "8            9         1       3   \n",
       "9           10         1       2   \n",
       "\n",
       "                                                Name     Sex   Age  SibSp  \\\n",
       "1  Cumings, Mrs. John Bradley (Florence Briggs Th...  female  38.0      1   \n",
       "3       Futrelle, Mrs. Jacques Heath (Lily May Peel)  female  35.0      1   \n",
       "7                     Palsson, Master. Gosta Leonard    male   2.0      3   \n",
       "8  Johnson, Mrs. Oscar W (Elisabeth Vilhelmina Berg)  female  27.0      0   \n",
       "9                Nasser, Mrs. Nicholas (Adele Achem)  female  14.0      1   \n",
       "\n",
       "   Parch    Ticket    Fare Embarked  Sex_female  Deck   Title  AgeBand  \\\n",
       "1      0  PC 17599  41-100        C           1     2     Mrs        3   \n",
       "3      0    113803  41-100        S           1     2     Mrs        2   \n",
       "7      1    349909    0-41        S           0     8  Master        0   \n",
       "8      2    347742    0-41        S           1     8     Mrs        2   \n",
       "9      0    237736    0-41        C           1     8     Mrs        1   \n",
       "\n",
       "   FamSize  n_Ticket  isAlone  inWCg  \n",
       "1        1         1        0      1  \n",
       "3        1         2        0      1  \n",
       "7        4         4        0      1  \n",
       "8        2         3        0      1  \n",
       "9        1         2        0      1  "
      ]
     },
     "execution_count": 65,
     "metadata": {},
     "output_type": "execute_result"
    }
   ],
   "source": [
    "train[(train['inWCg']==1)].head()"
   ]
  },
  {
   "cell_type": "code",
   "execution_count": 66,
   "metadata": {
    "scrolled": true
   },
   "outputs": [
    {
     "data": {
      "text/html": [
       "<div>\n",
       "<style scoped>\n",
       "    .dataframe tbody tr th:only-of-type {\n",
       "        vertical-align: middle;\n",
       "    }\n",
       "\n",
       "    .dataframe tbody tr th {\n",
       "        vertical-align: top;\n",
       "    }\n",
       "\n",
       "    .dataframe thead th {\n",
       "        text-align: right;\n",
       "    }\n",
       "</style>\n",
       "<table border=\"1\" class=\"dataframe\">\n",
       "  <thead>\n",
       "    <tr style=\"text-align: right;\">\n",
       "      <th></th>\n",
       "      <th>PassengerId</th>\n",
       "      <th>Survived</th>\n",
       "      <th>Pclass</th>\n",
       "      <th>Name</th>\n",
       "      <th>Sex</th>\n",
       "      <th>Age</th>\n",
       "      <th>SibSp</th>\n",
       "      <th>Parch</th>\n",
       "      <th>Ticket</th>\n",
       "      <th>Fare</th>\n",
       "      <th>Embarked</th>\n",
       "      <th>Sex_female</th>\n",
       "      <th>Deck</th>\n",
       "      <th>Title</th>\n",
       "      <th>AgeBand</th>\n",
       "      <th>FamSize</th>\n",
       "      <th>n_Ticket</th>\n",
       "      <th>isAlone</th>\n",
       "      <th>inWCg</th>\n",
       "    </tr>\n",
       "  </thead>\n",
       "  <tbody>\n",
       "    <tr>\n",
       "      <th>7</th>\n",
       "      <td>8</td>\n",
       "      <td>0</td>\n",
       "      <td>3</td>\n",
       "      <td>Palsson, Master. Gosta Leonard</td>\n",
       "      <td>male</td>\n",
       "      <td>2.0</td>\n",
       "      <td>3</td>\n",
       "      <td>1</td>\n",
       "      <td>349909</td>\n",
       "      <td>0-41</td>\n",
       "      <td>S</td>\n",
       "      <td>0</td>\n",
       "      <td>8</td>\n",
       "      <td>Master</td>\n",
       "      <td>0</td>\n",
       "      <td>4</td>\n",
       "      <td>4</td>\n",
       "      <td>0</td>\n",
       "      <td>1</td>\n",
       "    </tr>\n",
       "    <tr>\n",
       "      <th>24</th>\n",
       "      <td>25</td>\n",
       "      <td>0</td>\n",
       "      <td>3</td>\n",
       "      <td>Palsson, Miss. Torborg Danira</td>\n",
       "      <td>female</td>\n",
       "      <td>8.0</td>\n",
       "      <td>3</td>\n",
       "      <td>1</td>\n",
       "      <td>349909</td>\n",
       "      <td>0-41</td>\n",
       "      <td>S</td>\n",
       "      <td>1</td>\n",
       "      <td>8</td>\n",
       "      <td>MissChild</td>\n",
       "      <td>0</td>\n",
       "      <td>4</td>\n",
       "      <td>4</td>\n",
       "      <td>0</td>\n",
       "      <td>1</td>\n",
       "    </tr>\n",
       "    <tr>\n",
       "      <th>374</th>\n",
       "      <td>375</td>\n",
       "      <td>0</td>\n",
       "      <td>3</td>\n",
       "      <td>Palsson, Miss. Stina Viola</td>\n",
       "      <td>female</td>\n",
       "      <td>3.0</td>\n",
       "      <td>3</td>\n",
       "      <td>1</td>\n",
       "      <td>349909</td>\n",
       "      <td>0-41</td>\n",
       "      <td>S</td>\n",
       "      <td>1</td>\n",
       "      <td>8</td>\n",
       "      <td>MissChild</td>\n",
       "      <td>0</td>\n",
       "      <td>4</td>\n",
       "      <td>4</td>\n",
       "      <td>0</td>\n",
       "      <td>1</td>\n",
       "    </tr>\n",
       "    <tr>\n",
       "      <th>567</th>\n",
       "      <td>568</td>\n",
       "      <td>0</td>\n",
       "      <td>3</td>\n",
       "      <td>Palsson, Mrs. Nils (Alma Cornelia Berglund)</td>\n",
       "      <td>female</td>\n",
       "      <td>29.0</td>\n",
       "      <td>0</td>\n",
       "      <td>4</td>\n",
       "      <td>349909</td>\n",
       "      <td>0-41</td>\n",
       "      <td>S</td>\n",
       "      <td>1</td>\n",
       "      <td>8</td>\n",
       "      <td>Mrs</td>\n",
       "      <td>2</td>\n",
       "      <td>4</td>\n",
       "      <td>4</td>\n",
       "      <td>0</td>\n",
       "      <td>1</td>\n",
       "    </tr>\n",
       "  </tbody>\n",
       "</table>\n",
       "</div>"
      ],
      "text/plain": [
       "     PassengerId  Survived  Pclass  \\\n",
       "7              8         0       3   \n",
       "24            25         0       3   \n",
       "374          375         0       3   \n",
       "567          568         0       3   \n",
       "\n",
       "                                            Name     Sex   Age  SibSp  Parch  \\\n",
       "7                 Palsson, Master. Gosta Leonard    male   2.0      3      1   \n",
       "24                 Palsson, Miss. Torborg Danira  female   8.0      3      1   \n",
       "374                   Palsson, Miss. Stina Viola  female   3.0      3      1   \n",
       "567  Palsson, Mrs. Nils (Alma Cornelia Berglund)  female  29.0      0      4   \n",
       "\n",
       "     Ticket  Fare Embarked  Sex_female  Deck      Title  AgeBand  FamSize  \\\n",
       "7    349909  0-41        S           0     8     Master        0        4   \n",
       "24   349909  0-41        S           1     8  MissChild        0        4   \n",
       "374  349909  0-41        S           1     8  MissChild        0        4   \n",
       "567  349909  0-41        S           1     8        Mrs        2        4   \n",
       "\n",
       "     n_Ticket  isAlone  inWCg  \n",
       "7           4        0      1  \n",
       "24          4        0      1  \n",
       "374         4        0      1  \n",
       "567         4        0      1  "
      ]
     },
     "execution_count": 66,
     "metadata": {},
     "output_type": "execute_result"
    }
   ],
   "source": [
    "# Family shared same fate (Survived==0)\n",
    "train[train['Name'].str.contains('Palsson')]"
   ]
  },
  {
   "cell_type": "markdown",
   "metadata": {},
   "source": [
    "Now that we're done with analysis and engineering, we can drop the columns that we no longer need. "
   ]
  },
  {
   "cell_type": "code",
   "execution_count": 67,
   "metadata": {},
   "outputs": [
    {
     "name": "stdout",
     "output_type": "stream",
     "text": [
      "Index(['Survived', 'Pclass', 'Sex_female', 'AgeBand', 'FamSize', 'isAlone',\n",
      "       'inWCg'],\n",
      "      dtype='object')\n",
      "Index(['PassengerId', 'Pclass', 'Sex_female', 'AgeBand', 'FamSize', 'isAlone',\n",
      "       'inWCg'],\n",
      "      dtype='object')\n"
     ]
    }
   ],
   "source": [
    "train = train.drop(['PassengerId','Name', 'Sex', 'Age',\n",
    "                    'SibSp', 'Parch',\n",
    "                    'Ticket', 'Fare', 'Embarked', 'Deck', 'Title', 'n_Ticket'], axis=1)\n",
    "holdout = holdout.drop(['Name', 'Sex', 'Age',\n",
    "                        'SibSp', 'Parch',\n",
    "                        'Ticket', 'Fare', 'Embarked', 'Deck', 'Title', 'n_Ticket'], axis=1)\n",
    "\n",
    "print(train.columns)\n",
    "print(holdout.columns)"
   ]
  },
  {
   "cell_type": "markdown",
   "metadata": {},
   "source": [
    "# 4. Feature Scaling\n",
    "In order to make sure values are equally weighted in the model, we need to rescale numeric features. Looking at our columns, we only need to scale `FamSize`."
   ]
  },
  {
   "cell_type": "code",
   "execution_count": 68,
   "metadata": {
    "scrolled": true
   },
   "outputs": [
    {
     "name": "stdout",
     "output_type": "stream",
     "text": [
      "<class 'pandas.core.frame.DataFrame'>\n",
      "RangeIndex: 891 entries, 0 to 890\n",
      "Data columns (total 7 columns):\n",
      " #   Column      Non-Null Count  Dtype\n",
      "---  ------      --------------  -----\n",
      " 0   Survived    891 non-null    int64\n",
      " 1   Pclass      891 non-null    int64\n",
      " 2   Sex_female  891 non-null    uint8\n",
      " 3   AgeBand     891 non-null    int64\n",
      " 4   FamSize     891 non-null    int64\n",
      " 5   isAlone     891 non-null    int64\n",
      " 6   inWCg       891 non-null    int64\n",
      "dtypes: int64(6), uint8(1)\n",
      "memory usage: 42.8 KB\n"
     ]
    }
   ],
   "source": [
    "train.info()"
   ]
  },
  {
   "cell_type": "code",
   "execution_count": 69,
   "metadata": {},
   "outputs": [
    {
     "data": {
      "text/html": [
       "<div>\n",
       "<style scoped>\n",
       "    .dataframe tbody tr th:only-of-type {\n",
       "        vertical-align: middle;\n",
       "    }\n",
       "\n",
       "    .dataframe tbody tr th {\n",
       "        vertical-align: top;\n",
       "    }\n",
       "\n",
       "    .dataframe thead th {\n",
       "        text-align: right;\n",
       "    }\n",
       "</style>\n",
       "<table border=\"1\" class=\"dataframe\">\n",
       "  <thead>\n",
       "    <tr style=\"text-align: right;\">\n",
       "      <th></th>\n",
       "      <th>Survived</th>\n",
       "      <th>Pclass</th>\n",
       "      <th>Sex_female</th>\n",
       "      <th>AgeBand</th>\n",
       "      <th>isAlone</th>\n",
       "      <th>inWCg</th>\n",
       "      <th>FamSize_scaled</th>\n",
       "    </tr>\n",
       "  </thead>\n",
       "  <tbody>\n",
       "    <tr>\n",
       "      <th>0</th>\n",
       "      <td>0</td>\n",
       "      <td>3</td>\n",
       "      <td>0</td>\n",
       "      <td>1</td>\n",
       "      <td>0</td>\n",
       "      <td>0</td>\n",
       "      <td>0.1</td>\n",
       "    </tr>\n",
       "    <tr>\n",
       "      <th>1</th>\n",
       "      <td>1</td>\n",
       "      <td>1</td>\n",
       "      <td>1</td>\n",
       "      <td>3</td>\n",
       "      <td>0</td>\n",
       "      <td>1</td>\n",
       "      <td>0.1</td>\n",
       "    </tr>\n",
       "    <tr>\n",
       "      <th>2</th>\n",
       "      <td>1</td>\n",
       "      <td>3</td>\n",
       "      <td>1</td>\n",
       "      <td>2</td>\n",
       "      <td>1</td>\n",
       "      <td>0</td>\n",
       "      <td>0.0</td>\n",
       "    </tr>\n",
       "    <tr>\n",
       "      <th>3</th>\n",
       "      <td>1</td>\n",
       "      <td>1</td>\n",
       "      <td>1</td>\n",
       "      <td>2</td>\n",
       "      <td>0</td>\n",
       "      <td>1</td>\n",
       "      <td>0.1</td>\n",
       "    </tr>\n",
       "    <tr>\n",
       "      <th>4</th>\n",
       "      <td>0</td>\n",
       "      <td>3</td>\n",
       "      <td>0</td>\n",
       "      <td>2</td>\n",
       "      <td>1</td>\n",
       "      <td>0</td>\n",
       "      <td>0.0</td>\n",
       "    </tr>\n",
       "  </tbody>\n",
       "</table>\n",
       "</div>"
      ],
      "text/plain": [
       "   Survived  Pclass  Sex_female  AgeBand  isAlone  inWCg  FamSize_scaled\n",
       "0         0       3           0        1        0      0             0.1\n",
       "1         1       1           1        3        0      1             0.1\n",
       "2         1       3           1        2        1      0             0.0\n",
       "3         1       1           1        2        0      1             0.1\n",
       "4         0       3           0        2        1      0             0.0"
      ]
     },
     "execution_count": 69,
     "metadata": {},
     "output_type": "execute_result"
    }
   ],
   "source": [
    "# Normalize data from 0 to 1\n",
    "from sklearn.preprocessing import minmax_scale\n",
    "\n",
    "cols = ['FamSize']\n",
    "for col in cols:\n",
    "    new_colname = col + '_scaled'\n",
    "    train[new_colname] = minmax_scale(train[col])\n",
    "    holdout[new_colname] = minmax_scale(holdout[col])\n",
    "    train = train.drop(col, axis=1)\n",
    "    holdout = holdout.drop(col, axis=1)\n",
    "\n",
    "train.head()"
   ]
  },
  {
   "cell_type": "markdown",
   "metadata": {},
   "source": [
    "# 5. Feature Selection\n",
    "We're now almost ready to train a model. We'll be using the following classifiers: k-Nearest Neighbors, Logistic Regression, and Random Forest. Before that, we'll select the best features for a Logistic Regression model and a Random Forest model. (Note that we can't do this for kNN)"
   ]
  },
  {
   "cell_type": "code",
   "execution_count": 70,
   "metadata": {
    "scrolled": false
   },
   "outputs": [
    {
     "data": {
      "text/plain": [
       "<AxesSubplot:>"
      ]
     },
     "execution_count": 70,
     "metadata": {},
     "output_type": "execute_result"
    },
    {
     "data": {
      "image/png": "[encoded data removed]",
      "text/plain": [
       "<Figure size 720x720 with 2 Axes>"
      ]
     },
     "metadata": {},
     "output_type": "display_data"
    }
   ],
   "source": [
    "# Visualize a correlation heatmap for the purpose of dropping redundant features\n",
    "import seaborn as sns\n",
    "\n",
    "plt.subplots(figsize=(10,10))\n",
    "mask = np.triu(np.ones_like(train.corr()))\n",
    "sns.heatmap(train.corr(), cmap=\"BrBG\", mask=mask, annot=True)"
   ]
  },
  {
   "cell_type": "markdown",
   "metadata": {},
   "source": [
    "The highest correlation seems to be between `inWCg` and `Sex_female` and between `inWCg` and `isAlone`, which makes sense based on how we engineered `inWCg`. I believe it's still essential to keep all three as features, but let's do recursive feature elimination with cross-validation."
   ]
  },
  {
   "cell_type": "code",
   "execution_count": 71,
   "metadata": {
    "scrolled": true
   },
   "outputs": [
    {
     "name": "stdout",
     "output_type": "stream",
     "text": [
      "Best features for a Logistic Regression model: \n",
      "Index(['Pclass', 'Sex_female', 'AgeBand', 'isAlone', 'inWCg',\n",
      "       'FamSize_scaled'],\n",
      "      dtype='object')\n",
      "\n",
      "Best features for a Random Forest model: \n",
      "Index(['Pclass', 'Sex_female', 'inWCg', 'FamSize_scaled'], dtype='object')\n",
      "\n"
     ]
    }
   ],
   "source": [
    "from sklearn.feature_selection import RFECV\n",
    "from sklearn.neighbors import KNeighborsClassifier\n",
    "from sklearn.linear_model import LogisticRegression\n",
    "from sklearn.ensemble import RandomForestClassifier\n",
    "\n",
    "def select_features(df, alg):\n",
    "    \"\"\"\n",
    "    Uses RFECV to select the optimal columns for Logistic Regression or Random Forest Classifier\n",
    "    \n",
    "        Parameters:\n",
    "            df (DataFrame): The DataFrame to work with\n",
    "            alg (str): 'lr' for Logistic Regression\n",
    "                       'rf' for Random Forest\n",
    "                         \n",
    "        Returns:\n",
    "            list (pandas.Index) of features from df that are optimal for a model of the algorithm that was selected\n",
    "    \"\"\"\n",
    "    \n",
    "    X = df.drop(['Survived'], axis=1)\n",
    "    y = df['Survived']\n",
    "    \n",
    "    if alg=='lr':\n",
    "        estimator = LogisticRegression()\n",
    "    elif alg=='rf':\n",
    "        estimator = RandomForestClassifier(random_state=1)\n",
    "    \n",
    "    selector = RFECV(estimator, cv=10)\n",
    "    selector.fit(X, y)\n",
    "    \n",
    "    #Select columns using mask of selected features from RFECV\n",
    "    optimized_cols = X.columns[selector.support_]\n",
    "    \n",
    "    return optimized_cols\n",
    "\n",
    "best_cols_lr = select_features(train, 'lr')\n",
    "best_cols_rf = select_features(train, 'rf')\n",
    "\n",
    "print(\"Best features for a Logistic Regression model: \\n{}\\n\".format(best_cols_lr))\n",
    "print(\"Best features for a Random Forest model: \\n{}\\n\".format(best_cols_rf))"
   ]
  },
  {
   "cell_type": "markdown",
   "metadata": {},
   "source": [
    "It looks like a Logistic Regression model agrees with us, while a Random Forest model drops `AgeBand` and `isAlone`."
   ]
  },
  {
   "cell_type": "markdown",
   "metadata": {},
   "source": [
    "# 6. Model Selection and Tuning"
   ]
  },
  {
   "cell_type": "code",
   "execution_count": 72,
   "metadata": {},
   "outputs": [],
   "source": [
    "from sklearn.model_selection import GridSearchCV\n",
    "from random import uniform, randint\n",
    "\n",
    "def select_model(df, features, alg):\n",
    "    \"\"\"\n",
    "    Uses GridSearchCV to select the best parameters for an estimator\n",
    "    and returns a dictionary with all the values including the best estimator\n",
    "    and the best score and best parameters associated with it\n",
    "    \n",
    "        Parameters:\n",
    "            df (DataFrame): the DataFrame to work with\n",
    "            features (pandas.Index): column names of the DataFrame to use as features\n",
    "            alg (str): 'knn' for k-Nearest Neighbors\n",
    "                       'lr' for Linear Regression\n",
    "                       'rf' for Random Forest\n",
    "        Returns:\n",
    "            Dictionary of the best model of the algorithm that was chosen\n",
    "            with the best parameters and values\n",
    "    \"\"\"\n",
    "    \n",
    "    X = df[features]\n",
    "    y = df['Survived']\n",
    "    models = [\n",
    "        {\n",
    "            \"name\": \"KNeighborsClassifier\",\n",
    "            \"estimator\": KNeighborsClassifier(),\n",
    "            \"hyperparameters\": \n",
    "            {\n",
    "                \"n_neighbors\": range(1,20,2),\n",
    "                \"weights\": [\"distance\", \"uniform\"],\n",
    "                \"algorithm\": [\"ball_tree\", \"kd_tree\", \"brute\"],\n",
    "                \"p\": [1,2],\n",
    "                \"leaf_size\": [randint(1,50)]\n",
    "            }\n",
    "        },\n",
    "        \n",
    "        {\n",
    "            \"name\": \"LogisticRegression\",\n",
    "            \"estimator\": LogisticRegression(),\n",
    "            \"hyperparameters\":\n",
    "            {\n",
    "                #\"solver\": [\"newton-cg\", \"lbfgs\", \"liblinear\", \"sag\"]\n",
    "                \"solver\": [\"liblinear\"],\n",
    "                \"penalty\": ['l1','l2'],\n",
    "                \"C\": [uniform(0.01,10)]\n",
    "            }\n",
    "        },\n",
    "        \n",
    "        {\n",
    "            \"name\": \"RandomForestClassifier\",\n",
    "            \"estimator\": RandomForestClassifier(random_state=1),\n",
    "            \"hyperparameters\":\n",
    "            {\n",
    "                \"n_estimators\": [4, 6, 9],\n",
    "                \"criterion\": [\"entropy\", \"gini\"],\n",
    "                \"max_depth\": [2, 5, 10],\n",
    "                \"max_features\": [\"log2\", \"sqrt\"],\n",
    "                \"min_samples_leaf\": [1, 5, 8],\n",
    "                \"min_samples_split\": [2, 3, 5]\n",
    "            }\n",
    "        }\n",
    "    ]\n",
    "    \n",
    "    if alg=='knn':\n",
    "        model = models[0]\n",
    "    elif alg=='lr':\n",
    "        model = models[1]\n",
    "    elif alg=='rf':\n",
    "        model = models[2]\n",
    "        \n",
    "    print(model[\"name\"])\n",
    "    grid = GridSearchCV(model[\"estimator\"], param_grid=model[\"hyperparameters\"], cv=10)\n",
    "    grid.fit(X, y)\n",
    "    model[\"best_params\"] = grid.best_params_\n",
    "    model[\"best_score\"] = grid.best_score_\n",
    "    model[\"best_model\"] = grid.best_estimator_\n",
    "        \n",
    "    print(\"Best score:\", model[\"best_score\"])\n",
    "    print(\"Best parameters:\", model[\"best_params\"], \"\\n\")\n",
    "        \n",
    "    return model"
   ]
  },
  {
   "cell_type": "markdown",
   "metadata": {},
   "source": [
    "# 7. Model training"
   ]
  },
  {
   "cell_type": "code",
   "execution_count": 73,
   "metadata": {},
   "outputs": [
    {
     "name": "stdout",
     "output_type": "stream",
     "text": [
      "Using all features:\n",
      "KNeighborsClassifier\n",
      "Best score: 0.8215980024968788\n",
      "Best parameters: {'algorithm': 'kd_tree', 'leaf_size': 25, 'n_neighbors': 7, 'p': 1, 'weights': 'uniform'} \n",
      "\n",
      "Using best features for a Logistic Regression model:\n",
      "KNeighborsClassifier\n",
      "Best score: 0.8226841448189763\n",
      "Best parameters: {'algorithm': 'kd_tree', 'leaf_size': 4, 'n_neighbors': 15, 'p': 1, 'weights': 'uniform'} \n",
      "\n",
      "Using best features for a Random Forest model:\n",
      "KNeighborsClassifier\n",
      "Best score: 0.8271535580524343\n",
      "Best parameters: {'algorithm': 'ball_tree', 'leaf_size': 9, 'n_neighbors': 9, 'p': 1, 'weights': 'uniform'} \n",
      "\n"
     ]
    }
   ],
   "source": [
    "# All features for kNN checking\n",
    "all_features = train.drop('Survived',axis=1).columns\n",
    "print(\"Using all features:\")\n",
    "result_knn_all_features = select_model(train, all_features, 'knn')\n",
    "\n",
    "# Using the best features for Logistic Regression to get the best model for kNN\n",
    "print(\"Using best features for a Logistic Regression model:\")\n",
    "result_knn_lr_features = select_model(train, best_cols_lr, 'knn')\n",
    "\n",
    "# Using the best features for Random Forest to get the best model for kNN\n",
    "print(\"Using best features for a Random Forest model:\")\n",
    "result_knn_rf_features = select_model(train, best_cols_rf, 'knn')"
   ]
  },
  {
   "cell_type": "code",
   "execution_count": 74,
   "metadata": {},
   "outputs": [
    {
     "name": "stdout",
     "output_type": "stream",
     "text": [
      "Using best features:\n",
      "LogisticRegression\n",
      "Best score: 0.8103620474406992\n",
      "Best parameters: {'C': 6.608866357484032, 'penalty': 'l1', 'solver': 'liblinear'} \n",
      "\n",
      "Using all features:\n",
      "LogisticRegression\n",
      "Best score: 0.8013607990012485\n",
      "Best parameters: {'C': 0.49087178946917276, 'penalty': 'l1', 'solver': 'liblinear'} \n",
      "\n"
     ]
    }
   ],
   "source": [
    "# Using the best features for a Logistic Regression model\n",
    "print(\"Using best features:\")\n",
    "result_lr = select_model(train, best_cols_lr, 'lr')\n",
    "\n",
    "# Using all features for a Logistic Regression model\n",
    "print(\"Using all features:\")\n",
    "result_lr_all_features = select_model(train, all_features, 'lr')"
   ]
  },
  {
   "cell_type": "code",
   "execution_count": 75,
   "metadata": {
    "scrolled": true
   },
   "outputs": [
    {
     "name": "stdout",
     "output_type": "stream",
     "text": [
      "Using best features:\n",
      "RandomForestClassifier\n",
      "Best score: 0.8350187265917602\n",
      "Best parameters: {'criterion': 'entropy', 'max_depth': 10, 'max_features': 'log2', 'min_samples_leaf': 5, 'min_samples_split': 2, 'n_estimators': 9} \n",
      "\n",
      "Using all features:\n",
      "RandomForestClassifier\n",
      "Best score: 0.8384019975031209\n",
      "Best parameters: {'criterion': 'entropy', 'max_depth': 10, 'max_features': 'log2', 'min_samples_leaf': 5, 'min_samples_split': 2, 'n_estimators': 9} \n",
      "\n"
     ]
    }
   ],
   "source": [
    "# Using the best features for a Random Forest model\n",
    "print(\"Using best features:\")\n",
    "result_rf = select_model(train, best_cols_rf, 'rf')\n",
    "\n",
    "# Using all features for a Logistic Regression model\n",
    "print(\"Using all features:\")\n",
    "result_rf_all_features = select_model(train, all_features, 'rf')"
   ]
  },
  {
   "cell_type": "markdown",
   "metadata": {},
   "source": [
    "It looks like if we wanted to use a k-Nearest Neighbors model, we get the best training accuracy score of 82.72% using the best features for a Random Forest model.\n",
    "\n",
    "Looking at all the models we trained, it seems that using the Random Forest model with all the features gains us the best training accuracy score. We'll make predictions on the test set using each model and submit to Kaggle in order to see the test accuracy."
   ]
  },
  {
   "cell_type": "markdown",
   "metadata": {},
   "source": [
    "# 8. Submitting Predictions to Kaggle"
   ]
  },
  {
   "cell_type": "code",
   "execution_count": 76,
   "metadata": {},
   "outputs": [],
   "source": [
    "def save_submission_file(trained_model, features, filename):\n",
    "    \"\"\"\n",
    "    Creates a csv file of the survival predictions for the test set\n",
    "    \"\"\"\n",
    "    \n",
    "    holdout_predictions = trained_model.predict(holdout[features])\n",
    "    submission = pd.DataFrame({'PassengerId': holdout['PassengerId'], 'Survived': holdout_predictions})\n",
    "    submission.to_csv(\"{}.csv\".format(filename), index=False)"
   ]
  },
  {
   "cell_type": "code",
   "execution_count": 77,
   "metadata": {},
   "outputs": [],
   "source": [
    "# Using Linear Regression model with 80.7% training accuracy\n",
    "#parameters: {'C': 0.6385119265659338, 'penalty': 'l1', 'solver': 'liblinear'}\n",
    "\n",
    "#best 0.79485 accuracy\n",
    "#save_submission_file(result_lr['best_model'], best_cols_lr, 'kaggle_submission_lr_')"
   ]
  },
  {
   "cell_type": "code",
   "execution_count": 78,
   "metadata": {},
   "outputs": [],
   "source": [
    "# Using Random Forest model with 83.84% training accuracy\n",
    "# parameters: {'criterion': 'entropy', 'max_depth': 10, 'max_features': 'log2', 'min_samples_leaf': 5, \n",
    "#                'min_samples_split': 2, 'n_estimators': 9}\n",
    "\n",
    "#0.77751 accuracy\n",
    "#save_submission_file(result_rf_all_features['best_model'], all_features, 'kaggle_submission_rf_')"
   ]
  },
  {
   "cell_type": "code",
   "execution_count": 79,
   "metadata": {},
   "outputs": [],
   "source": [
    "# Using kNN model with 82.72% training accuracy\n",
    "# parameters: {'algorithm': 'ball_tree', 'leaf_size': 32, 'n_neighbors': 7, 'p': 1, 'weights': 'uniform'} \n",
    "\n",
    "#0.77511 accuracy\n",
    "#save_submission_file(result_knn_rf_features['best_model'], best_cols_rf, 'kaggle_submission_knn__')"
   ]
  },
  {
   "cell_type": "markdown",
   "metadata": {},
   "source": [
    "# 9. Conclusion\n",
    "\n",
    "Our best submission scored 0.79485 with a Linear Regression model. It was interesting to see that our model with the lowest training accuracy of 0.80698 scored the highest. The difference between the training and test accuracies in our other models (Random Forest and kNN) tells us that those models were overfitting. \n",
    "\n",
    "Next steps we can take to potentially improve the results:\n",
    "* further tweak the hyperparameters for all models\n",
    "* try other machine learning algorithms"
   ]
  }
 ],
 "metadata": {
  "kernelspec": {
   "display_name": "Python 3 (ipykernel)",
   "language": "python",
   "name": "python3"
  },
  "language_info": {
   "codemirror_mode": {
    "name": "ipython",
    "version": 3
   },
   "file_extension": ".py",
   "mimetype": "text/x-python",
   "name": "python",
   "nbconvert_exporter": "python",
   "pygments_lexer": "ipython3",
   "version": "3.9.7"
  }
 },
 "nbformat": 4,
 "nbformat_minor": 2
}
